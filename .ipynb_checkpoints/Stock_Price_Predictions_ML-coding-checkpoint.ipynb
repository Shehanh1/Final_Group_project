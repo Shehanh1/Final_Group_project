{
 "cells": [
  {
   "cell_type": "markdown",
   "metadata": {},
   "source": [
    "\n",
    "## Group Number – 3\n",
    "## Group Name – Tech Up\n",
    "## Group Members:\n",
    "1. Basma Aldamegh\n",
    "2. Eithar Alahmadi\n",
    "3. Mona Alomari\n",
    "4. Shehanh Alotaibi\n",
    "5. Zainab Aljohani"
   ]
  },
  {
   "cell_type": "markdown",
   "metadata": {},
   "source": [
    "# Project: Stock Price Prediction – Machine Learning\n",
    "\n",
    "## Introduction:\n",
    "We will implement a mix of machine learning algorithms to predict the future stock price of this company, starting with simple algorithms like averaging and linear regression, and then move on to advanced techniques like using the LSTM neural network.\n",
    "\n",
    "# Dataset:\n",
    "From historical data (https://finance.yahoo.com/quote/AAPL/history?p=AAPL)\n",
    "\n",
    "\n",
    "\n",
    "\n",
    "\n"
   ]
  },
  {
   "cell_type": "markdown",
   "metadata": {},
   "source": [
    "# Get Data"
   ]
  },
  {
   "cell_type": "code",
   "execution_count": 1,
   "metadata": {},
   "outputs": [],
   "source": [
    "#This program uses an artificial recurrent neural network called Long Short Term Memory(LSTM)\n",
    "#to predict the closing stock price of a corporation(Apple Inc.).\n",
    "#import the libraries\n",
    "import pandas as pd\n",
    "import numpy as np\n",
    "import datetime as dt\n",
    "import yfinance as yf\n",
    "from pandas_datareader import data as pdr\n",
    "yf.pdr_override()\n",
    "from sklearn.preprocessing import MinMaxScaler\n",
    "from sklearn import metrics\n",
    "from sklearn.linear_model import LogisticRegression\n",
    "from sklearn.model_selection import train_test_split\n",
    "from sklearn.linear_model import LinearRegression\n",
    "from keras.models import Sequential \n",
    "from keras.layers import LSTM,Dense\n",
    "import matplotlib.pyplot as plt\n",
    "#plt.style.use('fivethirtyeight'\n"
   ]
  },
  {
   "cell_type": "code",
   "execution_count": 2,
   "metadata": {},
   "outputs": [
    {
     "name": "stdout",
     "output_type": "stream",
     "text": [
      "[*********************100%***********************]  1 of 1 completed\n"
     ]
    }
   ],
   "source": [
    "#Get the stock quote\n",
    "df=pdr.get_data_yahoo('AAPL','2011-01-01','2021-12-31')"
   ]
  },
  {
   "cell_type": "code",
   "execution_count": 3,
   "metadata": {},
   "outputs": [
    {
     "data": {
      "text/html": [
       "<div>\n",
       "<style scoped>\n",
       "    .dataframe tbody tr th:only-of-type {\n",
       "        vertical-align: middle;\n",
       "    }\n",
       "\n",
       "    .dataframe tbody tr th {\n",
       "        vertical-align: top;\n",
       "    }\n",
       "\n",
       "    .dataframe thead th {\n",
       "        text-align: right;\n",
       "    }\n",
       "</style>\n",
       "<table border=\"1\" class=\"dataframe\">\n",
       "  <thead>\n",
       "    <tr style=\"text-align: right;\">\n",
       "      <th></th>\n",
       "      <th>Open</th>\n",
       "      <th>High</th>\n",
       "      <th>Low</th>\n",
       "      <th>Close</th>\n",
       "      <th>Adj Close</th>\n",
       "      <th>Volume</th>\n",
       "    </tr>\n",
       "    <tr>\n",
       "      <th>Date</th>\n",
       "      <th></th>\n",
       "      <th></th>\n",
       "      <th></th>\n",
       "      <th></th>\n",
       "      <th></th>\n",
       "      <th></th>\n",
       "    </tr>\n",
       "  </thead>\n",
       "  <tbody>\n",
       "    <tr>\n",
       "      <th>2010-12-31</th>\n",
       "      <td>11.533929</td>\n",
       "      <td>11.552857</td>\n",
       "      <td>11.475357</td>\n",
       "      <td>11.520000</td>\n",
       "      <td>9.876848</td>\n",
       "      <td>193508000</td>\n",
       "    </tr>\n",
       "    <tr>\n",
       "      <th>2011-01-03</th>\n",
       "      <td>11.630000</td>\n",
       "      <td>11.795000</td>\n",
       "      <td>11.601429</td>\n",
       "      <td>11.770357</td>\n",
       "      <td>10.091494</td>\n",
       "      <td>445138400</td>\n",
       "    </tr>\n",
       "    <tr>\n",
       "      <th>2011-01-04</th>\n",
       "      <td>11.872857</td>\n",
       "      <td>11.875000</td>\n",
       "      <td>11.719643</td>\n",
       "      <td>11.831786</td>\n",
       "      <td>10.144159</td>\n",
       "      <td>309080800</td>\n",
       "    </tr>\n",
       "    <tr>\n",
       "      <th>2011-01-05</th>\n",
       "      <td>11.769643</td>\n",
       "      <td>11.940714</td>\n",
       "      <td>11.767857</td>\n",
       "      <td>11.928571</td>\n",
       "      <td>10.227142</td>\n",
       "      <td>255519600</td>\n",
       "    </tr>\n",
       "    <tr>\n",
       "      <th>2011-01-06</th>\n",
       "      <td>11.954286</td>\n",
       "      <td>11.973214</td>\n",
       "      <td>11.889286</td>\n",
       "      <td>11.918929</td>\n",
       "      <td>10.218876</td>\n",
       "      <td>300428800</td>\n",
       "    </tr>\n",
       "    <tr>\n",
       "      <th>...</th>\n",
       "      <td>...</td>\n",
       "      <td>...</td>\n",
       "      <td>...</td>\n",
       "      <td>...</td>\n",
       "      <td>...</td>\n",
       "      <td>...</td>\n",
       "    </tr>\n",
       "    <tr>\n",
       "      <th>2021-12-23</th>\n",
       "      <td>175.850006</td>\n",
       "      <td>176.850006</td>\n",
       "      <td>175.270004</td>\n",
       "      <td>176.279999</td>\n",
       "      <td>176.279999</td>\n",
       "      <td>68356600</td>\n",
       "    </tr>\n",
       "    <tr>\n",
       "      <th>2021-12-27</th>\n",
       "      <td>177.089996</td>\n",
       "      <td>180.419998</td>\n",
       "      <td>177.070007</td>\n",
       "      <td>180.330002</td>\n",
       "      <td>180.330002</td>\n",
       "      <td>74919600</td>\n",
       "    </tr>\n",
       "    <tr>\n",
       "      <th>2021-12-28</th>\n",
       "      <td>180.160004</td>\n",
       "      <td>181.330002</td>\n",
       "      <td>178.529999</td>\n",
       "      <td>179.289993</td>\n",
       "      <td>179.289993</td>\n",
       "      <td>79144300</td>\n",
       "    </tr>\n",
       "    <tr>\n",
       "      <th>2021-12-29</th>\n",
       "      <td>179.330002</td>\n",
       "      <td>180.630005</td>\n",
       "      <td>178.139999</td>\n",
       "      <td>179.380005</td>\n",
       "      <td>179.380005</td>\n",
       "      <td>62348900</td>\n",
       "    </tr>\n",
       "    <tr>\n",
       "      <th>2021-12-30</th>\n",
       "      <td>179.470001</td>\n",
       "      <td>180.570007</td>\n",
       "      <td>178.089996</td>\n",
       "      <td>178.199997</td>\n",
       "      <td>178.199997</td>\n",
       "      <td>59773000</td>\n",
       "    </tr>\n",
       "  </tbody>\n",
       "</table>\n",
       "<p>2769 rows × 6 columns</p>\n",
       "</div>"
      ],
      "text/plain": [
       "                  Open        High         Low       Close   Adj Close  \\\n",
       "Date                                                                     \n",
       "2010-12-31   11.533929   11.552857   11.475357   11.520000    9.876848   \n",
       "2011-01-03   11.630000   11.795000   11.601429   11.770357   10.091494   \n",
       "2011-01-04   11.872857   11.875000   11.719643   11.831786   10.144159   \n",
       "2011-01-05   11.769643   11.940714   11.767857   11.928571   10.227142   \n",
       "2011-01-06   11.954286   11.973214   11.889286   11.918929   10.218876   \n",
       "...                ...         ...         ...         ...         ...   \n",
       "2021-12-23  175.850006  176.850006  175.270004  176.279999  176.279999   \n",
       "2021-12-27  177.089996  180.419998  177.070007  180.330002  180.330002   \n",
       "2021-12-28  180.160004  181.330002  178.529999  179.289993  179.289993   \n",
       "2021-12-29  179.330002  180.630005  178.139999  179.380005  179.380005   \n",
       "2021-12-30  179.470001  180.570007  178.089996  178.199997  178.199997   \n",
       "\n",
       "               Volume  \n",
       "Date                   \n",
       "2010-12-31  193508000  \n",
       "2011-01-03  445138400  \n",
       "2011-01-04  309080800  \n",
       "2011-01-05  255519600  \n",
       "2011-01-06  300428800  \n",
       "...               ...  \n",
       "2021-12-23   68356600  \n",
       "2021-12-27   74919600  \n",
       "2021-12-28   79144300  \n",
       "2021-12-29   62348900  \n",
       "2021-12-30   59773000  \n",
       "\n",
       "[2769 rows x 6 columns]"
      ]
     },
     "execution_count": 3,
     "metadata": {},
     "output_type": "execute_result"
    }
   ],
   "source": [
    "#Show the Data\n",
    "df"
   ]
  },
  {
   "cell_type": "code",
   "execution_count": 4,
   "metadata": {},
   "outputs": [
    {
     "data": {
      "text/plain": [
       "(2769, 6)"
      ]
     },
     "execution_count": 4,
     "metadata": {},
     "output_type": "execute_result"
    }
   ],
   "source": [
    "#Get the number of rows and columns in the data set\n",
    "df.shape"
   ]
  },
  {
   "cell_type": "markdown",
   "metadata": {},
   "source": [
    "# Data Visualization"
   ]
  },
  {
   "cell_type": "code",
   "execution_count": 5,
   "metadata": {},
   "outputs": [
    {
     "data": {
      "image/png": "[encoded data removed]",
      "text/plain": [
       "<Figure size 1152x576 with 1 Axes>"
      ]
     },
     "metadata": {
      "needs_background": "light"
     },
     "output_type": "display_data"
    }
   ],
   "source": [
    "#Visualize the closing price history\n",
    "plt.figure(figsize=(16,8))\n",
    "plt.title('Close Price History')\n",
    "plt.plot(df['Close'])\n",
    "plt.xlabel('Date',fontsize=18)\n",
    "plt.ylabel('Close Price USD ($)',fontsize=18)\n",
    "plt.show()"
   ]
  },
  {
   "cell_type": "markdown",
   "metadata": {},
   "source": [
    "# Splitting Data into a Training set and a Test set"
   ]
  },
  {
   "cell_type": "code",
   "execution_count": 6,
   "metadata": {},
   "outputs": [
    {
     "data": {
      "text/plain": [
       "2215"
      ]
     },
     "execution_count": 6,
     "metadata": {},
     "output_type": "execute_result"
    }
   ],
   "source": [
    "#Create a new dataframe with only the Close column\n",
    "data = df[['Close']]\n",
    "\n",
    "#Convert dataFrame to a numpy array\n",
    "dataset = data.values\n",
    "\n",
    "#Get the number of rows to train the model on \n",
    "training_data_len =int(0.8*len(dataset))\n",
    "training_data_len"
   ]
  },
  {
   "cell_type": "code",
   "execution_count": 7,
   "metadata": {},
   "outputs": [
    {
     "data": {
      "text/plain": [
       "array([[0.00152939],\n",
       "       [0.00301019],\n",
       "       [0.00337353],\n",
       "       ...,\n",
       "       [0.9938486 ],\n",
       "       [0.994381  ],\n",
       "       [0.98740153]])"
      ]
     },
     "execution_count": 7,
     "metadata": {},
     "output_type": "execute_result"
    }
   ],
   "source": [
    "#Scale the data(transform the data between 0 and 1)\n",
    "scaler=MinMaxScaler(feature_range=(0,1))\n",
    "scaled_data =scaler.fit_transform(dataset)\n",
    "scaled_data"
   ]
  },
  {
   "cell_type": "code",
   "execution_count": 8,
   "metadata": {},
   "outputs": [
    {
     "name": "stdout",
     "output_type": "stream",
     "text": [
      "[array([0.00152939, 0.00301019, 0.00337353, 0.00394598, 0.00388896,\n",
      "       0.00439382, 0.00573098, 0.00555988, 0.00614712, 0.00641328,\n",
      "       0.00700476, 0.00535074, 0.0049684 , 0.00366715, 0.00240815,\n",
      "       0.00467478, 0.00550917, 0.00602672, 0.00589152, 0.00438959,\n",
      "       0.00506979, 0.00627598, 0.006126  , 0.0059401 , 0.00658651,\n",
      "       0.00772299, 0.0084243 , 0.00904958, 0.00828489, 0.00877286,\n",
      "       0.00926505, 0.00941714, 0.01009946, 0.00907916, 0.00744415,\n",
      "       0.00491981, 0.00576689, 0.00582181, 0.00693717, 0.00800394,\n",
      "       0.00718009, 0.00777368, 0.00934532, 0.00943827, 0.00845811,\n",
      "       0.0085426 , 0.00784762, 0.00662242, 0.00774622, 0.00807787,\n",
      "       0.00636048, 0.00310313, 0.00408119, 0.00324255, 0.00506557,\n",
      "       0.00546692, 0.00504233, 0.00626331, 0.00765116, 0.00741879])]\n",
      "[0.0075286417207532375]\n",
      "\n"
     ]
    }
   ],
   "source": [
    "#Create the training data set \n",
    "#Create the scaled training data set\n",
    "train_data=scaled_data[0:training_data_len,:]\n",
    "#train_data\n",
    "#Split the data into x_train and y_train data set\n",
    "x_train=[]\n",
    "y_train=[]\n",
    "\n",
    "\n",
    "for i in range(60,len(train_data)):\n",
    "    x_train.append(train_data[i-60:i,0])\n",
    "    y_train.append(train_data[i,0])\n",
    "    if i <=60:\n",
    "        print(x_train)\n",
    "        print(y_train)\n",
    "        print()"
   ]
  },
  {
   "cell_type": "code",
   "execution_count": 9,
   "metadata": {},
   "outputs": [],
   "source": [
    "#Convert the x_train and y_train to numpy arrays\n",
    "x_train, y_train=np.array(x_train),np.array(y_train)"
   ]
  },
  {
   "cell_type": "code",
   "execution_count": 10,
   "metadata": {},
   "outputs": [
    {
     "data": {
      "text/plain": [
       "(2155, 60, 1)"
      ]
     },
     "execution_count": 10,
     "metadata": {},
     "output_type": "execute_result"
    }
   ],
   "source": [
    "#Reshape the data(shape become 3 dimensional)\n",
    "x_train=np.reshape(x_train,(x_train.shape[0],x_train.shape[1],1))\n",
    "x_train.shape"
   ]
  },
  {
   "cell_type": "markdown",
   "metadata": {},
   "source": [
    "# Build Machine Learning Model "
   ]
  },
  {
   "cell_type": "code",
   "execution_count": 11,
   "metadata": {},
   "outputs": [],
   "source": [
    "#Bulid the LSTM model\n",
    "model=Sequential()\n",
    "#add the layer to the model\n",
    "model.add(LSTM(50,return_sequences=True,input_shape=(x_train.shape[1],1)))\n",
    "model.add(LSTM(50,return_sequences=False))\n",
    "model.add(Dense(25))\n",
    "model.add(Dense(1))"
   ]
  },
  {
   "cell_type": "code",
   "execution_count": 12,
   "metadata": {},
   "outputs": [],
   "source": [
    "#Compile the model\n",
    "model.compile(optimizer='adam',loss='mean_squared_error')"
   ]
  },
  {
   "cell_type": "code",
   "execution_count": 13,
   "metadata": {},
   "outputs": [
    {
     "name": "stdout",
     "output_type": "stream",
     "text": [
      "2155/2155 [==============================] - 77s 34ms/step - loss: 1.3663e-04\n"
     ]
    },
    {
     "data": {
      "text/plain": [
       "<keras.callbacks.History at 0x1ca6656e4f0>"
      ]
     },
     "execution_count": 13,
     "metadata": {},
     "output_type": "execute_result"
    }
   ],
   "source": [
    "#Train the model\n",
    "model.fit(x_train,y_train,batch_size=1,epochs=1)"
   ]
  },
  {
   "cell_type": "code",
   "execution_count": 14,
   "metadata": {},
   "outputs": [],
   "source": [
    "#Create the testing data set\n",
    "#Create a new array containing scaled values from index 2155 to 2769\n",
    "test_data=scaled_data[training_data_len - 60: , :]\n",
    "#Create the data sets x_test and y_test\n",
    "x_test=[]\n",
    "y_test=dataset[training_data_len:, :]\n",
    "\n",
    "for i in range(60,len(test_data)):\n",
    "    x_test.append(test_data[i-60:i,0])\n"
   ]
  },
  {
   "cell_type": "code",
   "execution_count": 15,
   "metadata": {},
   "outputs": [],
   "source": [
    "#Convert the data to a numpy array\n",
    "x_test = np.array(x_test)"
   ]
  },
  {
   "cell_type": "code",
   "execution_count": 16,
   "metadata": {},
   "outputs": [],
   "source": [
    "#Reshape the data(shape become 3 dimensional)\n",
    "x_test=np.reshape(x_test,(x_test.shape[0],x_test.shape[1],1))"
   ]
  },
  {
   "cell_type": "code",
   "execution_count": 17,
   "metadata": {},
   "outputs": [],
   "source": [
    "#Get the models predicted price values\n",
    "predictions =model.predict(x_test)\n",
    "predictions =scaler.inverse_transform(predictions)"
   ]
  },
  {
   "cell_type": "code",
   "execution_count": 18,
   "metadata": {},
   "outputs": [
    {
     "data": {
      "text/plain": [
       "9.637474190887561"
      ]
     },
     "execution_count": 18,
     "metadata": {},
     "output_type": "execute_result"
    }
   ],
   "source": [
    "#Get the root mean squared error(RMSE)\n",
    "rese= np.sqrt(np.mean(predictions - y_test)**2)\n",
    "rese"
   ]
  },
  {
   "cell_type": "code",
   "execution_count": 19,
   "metadata": {},
   "outputs": [
    {
     "name": "stderr",
     "output_type": "stream",
     "text": [
      "<ipython-input-19-df9d7976cbca>:4: SettingWithCopyWarning: \n",
      "A value is trying to be set on a copy of a slice from a DataFrame.\n",
      "Try using .loc[row_indexer,col_indexer] = value instead\n",
      "\n",
      "See the caveats in the documentation: https://pandas.pydata.org/pandas-docs/stable/user_guide/indexing.html#returning-a-view-versus-a-copy\n",
      "  valid['predictions'] =predictions\n"
     ]
    },
    {
     "data": {
      "image/png": "[encoded data removed]",
      "text/plain": [
       "<Figure size 1152x576 with 1 Axes>"
      ]
     },
     "metadata": {
      "needs_background": "light"
     },
     "output_type": "display_data"
    }
   ],
   "source": [
    "#Plot the data\n",
    "train=data[:training_data_len]\n",
    "valid=data[training_data_len:]\n",
    "valid['predictions'] =predictions\n",
    "\n",
    "#Visualize the data\n",
    "plt.figure(figsize=(16,8))\n",
    "plt.title('Model')\n",
    "plt.xlabel('Date',fontsize=18)\n",
    "plt.ylabel('Close Price USD($)',fontsize=18)\n",
    "plt.plot(train['Close'])\n",
    "plt.plot(valid[['Close','predictions']])\n",
    "plt.legend(['Train','Val','predictions'],loc='lower right')\n",
    "plt.show()"
   ]
  },
  {
   "cell_type": "code",
   "execution_count": 20,
   "metadata": {},
   "outputs": [
    {
     "data": {
      "text/html": [
       "<div>\n",
       "<style scoped>\n",
       "    .dataframe tbody tr th:only-of-type {\n",
       "        vertical-align: middle;\n",
       "    }\n",
       "\n",
       "    .dataframe tbody tr th {\n",
       "        vertical-align: top;\n",
       "    }\n",
       "\n",
       "    .dataframe thead th {\n",
       "        text-align: right;\n",
       "    }\n",
       "</style>\n",
       "<table border=\"1\" class=\"dataframe\">\n",
       "  <thead>\n",
       "    <tr style=\"text-align: right;\">\n",
       "      <th></th>\n",
       "      <th>Close</th>\n",
       "      <th>predictions</th>\n",
       "    </tr>\n",
       "    <tr>\n",
       "      <th>Date</th>\n",
       "      <th></th>\n",
       "      <th></th>\n",
       "    </tr>\n",
       "  </thead>\n",
       "  <tbody>\n",
       "    <tr>\n",
       "      <th>2019-10-21</th>\n",
       "      <td>60.127499</td>\n",
       "      <td>57.510593</td>\n",
       "    </tr>\n",
       "    <tr>\n",
       "      <th>2019-10-22</th>\n",
       "      <td>59.990002</td>\n",
       "      <td>57.784405</td>\n",
       "    </tr>\n",
       "    <tr>\n",
       "      <th>2019-10-23</th>\n",
       "      <td>60.794998</td>\n",
       "      <td>58.043507</td>\n",
       "    </tr>\n",
       "    <tr>\n",
       "      <th>2019-10-24</th>\n",
       "      <td>60.895000</td>\n",
       "      <td>58.357903</td>\n",
       "    </tr>\n",
       "    <tr>\n",
       "      <th>2019-10-25</th>\n",
       "      <td>61.645000</td>\n",
       "      <td>58.668018</td>\n",
       "    </tr>\n",
       "    <tr>\n",
       "      <th>...</th>\n",
       "      <td>...</td>\n",
       "      <td>...</td>\n",
       "    </tr>\n",
       "    <tr>\n",
       "      <th>2021-12-23</th>\n",
       "      <td>176.279999</td>\n",
       "      <td>152.303375</td>\n",
       "    </tr>\n",
       "    <tr>\n",
       "      <th>2021-12-27</th>\n",
       "      <td>180.330002</td>\n",
       "      <td>152.638962</td>\n",
       "    </tr>\n",
       "    <tr>\n",
       "      <th>2021-12-28</th>\n",
       "      <td>179.289993</td>\n",
       "      <td>153.541260</td>\n",
       "    </tr>\n",
       "    <tr>\n",
       "      <th>2021-12-29</th>\n",
       "      <td>179.380005</td>\n",
       "      <td>154.406830</td>\n",
       "    </tr>\n",
       "    <tr>\n",
       "      <th>2021-12-30</th>\n",
       "      <td>178.199997</td>\n",
       "      <td>155.158646</td>\n",
       "    </tr>\n",
       "  </tbody>\n",
       "</table>\n",
       "<p>554 rows × 2 columns</p>\n",
       "</div>"
      ],
      "text/plain": [
       "                 Close  predictions\n",
       "Date                               \n",
       "2019-10-21   60.127499    57.510593\n",
       "2019-10-22   59.990002    57.784405\n",
       "2019-10-23   60.794998    58.043507\n",
       "2019-10-24   60.895000    58.357903\n",
       "2019-10-25   61.645000    58.668018\n",
       "...                ...          ...\n",
       "2021-12-23  176.279999   152.303375\n",
       "2021-12-27  180.330002   152.638962\n",
       "2021-12-28  179.289993   153.541260\n",
       "2021-12-29  179.380005   154.406830\n",
       "2021-12-30  178.199997   155.158646\n",
       "\n",
       "[554 rows x 2 columns]"
      ]
     },
     "execution_count": 20,
     "metadata": {},
     "output_type": "execute_result"
    }
   ],
   "source": [
    "#Show the valid and predicted prices\n",
    "valid"
   ]
  },
  {
   "cell_type": "markdown",
   "metadata": {},
   "source": [
    "# Predicted Stock Market for Apple"
   ]
  },
  {
   "cell_type": "code",
   "execution_count": 22,
   "metadata": {},
   "outputs": [
    {
     "name": "stdout",
     "output_type": "stream",
     "text": [
      "[*********************100%***********************]  1 of 1 completed\n",
      "[[173.28508]]\n"
     ]
    }
   ],
   "source": [
    "#predicted the close price for this date 2022-01-03\n",
    "\n",
    "#Get the qoute\n",
    "apple_quote=pdr.get_data_yahoo('AAPL','2011-01-01','2022-01-02')\n",
    "#Create a new dataframe\n",
    "new_df=apple_quote[['Close']]\n",
    "#Get last 60 day closing price values and convert the dataframe to an array\n",
    "last_60_days= new_df[-60:].values\n",
    "#Scale the data to be values between 0 and 1\n",
    "last_60_days_scaled=scaler.fit_transform(last_60_days)\n",
    "#Create empty list\n",
    "X_test=[]\n",
    "#Append past 60 days\n",
    "X_test.append(last_60_days_scaled)\n",
    "#Convert the X_test to numpy array\n",
    "X_test=np.array(X_test)\n",
    "#Reshape the data(shape become 3 dimensional)\n",
    "X_test=np.reshape(X_test,(X_test.shape[0],X_test.shape[1],1))\n",
    "#Get the predicted scaled price\n",
    "pred_price =model.predict(X_test)\n",
    "#undo the scaling\n",
    "pred_price =scaler.inverse_transform(pred_price)\n",
    "print(pred_price)"
   ]
  },
  {
   "cell_type": "code",
   "execution_count": 23,
   "metadata": {},
   "outputs": [
    {
     "name": "stdout",
     "output_type": "stream",
     "text": [
      "[*********************100%***********************]  1 of 1 completed\n",
      "Date\n",
      "2022-01-03    182.009995\n",
      "Name: Close, dtype: float64\n"
     ]
    }
   ],
   "source": [
    "#Get the real price for this date 2022-01-03\n",
    "apple_quote2=pdr.get_data_yahoo('AAPL','2022-01-04','2022-01-04')\n",
    "print(apple_quote2['Close'])"
   ]
  },
  {
   "cell_type": "code",
   "execution_count": 24,
   "metadata": {},
   "outputs": [
    {
     "name": "stderr",
     "output_type": "stream",
     "text": [
      "WARNING:absl:Found untraced functions such as lstm_cell_layer_call_fn, lstm_cell_layer_call_and_return_conditional_losses, lstm_cell_1_layer_call_fn, lstm_cell_1_layer_call_and_return_conditional_losses, lstm_cell_layer_call_fn while saving (showing 5 of 10). These functions will not be directly callable after loading.\n"
     ]
    },
    {
     "name": "stdout",
     "output_type": "stream",
     "text": [
      "INFO:tensorflow:Assets written to: Saved_LSTM_Model\\assets\n"
     ]
    },
    {
     "name": "stderr",
     "output_type": "stream",
     "text": [
      "INFO:tensorflow:Assets written to: Saved_LSTM_Model\\assets\n",
      "WARNING:absl:<keras.layers.recurrent.LSTMCell object at 0x000001CA6628E4F0> has the same name 'LSTMCell' as a built-in Keras object. Consider renaming <class 'keras.layers.recurrent.LSTMCell'> to avoid naming conflicts when loading with `tf.keras.models.load_model`. If renaming is not possible, pass the object in the `custom_objects` parameter of the load function.\n",
      "WARNING:absl:<keras.layers.recurrent.LSTMCell object at 0x000001CA65A4E160> has the same name 'LSTMCell' as a built-in Keras object. Consider renaming <class 'keras.layers.recurrent.LSTMCell'> to avoid naming conflicts when loading with `tf.keras.models.load_model`. If renaming is not possible, pass the object in the `custom_objects` parameter of the load function.\n"
     ]
    }
   ],
   "source": [
    "model.save(\"Saved_LSTM_Model\")"
   ]
  },
  {
   "cell_type": "code",
   "execution_count": 25,
   "metadata": {},
   "outputs": [
    {
     "name": "stdout",
     "output_type": "stream",
     "text": [
      "[*********************100%***********************]  1 of 1 completed\n",
      "[[173.28508]]\n"
     ]
    }
   ],
   "source": [
    "#predicted the close price for this date 2022-01-04\n",
    "#Get the qoute\n",
    "apple_quote=pdr.get_data_yahoo('AAPL','2011-01-01','2022-01-03')\n",
    "#Create a new dataframe\n",
    "new_df=apple_quote[['Close']]\n",
    "#Get last 60 day closing price values and convert the dataframe to an array\n",
    "last_60_days= new_df[-60:].values\n",
    "#Scale the data to be values between 0 and 1\n",
    "last_60_days_scaled=scaler.fit_transform(last_60_days)\n",
    "#Create empty list\n",
    "X_test=[]\n",
    "#Append past 60 days\n",
    "X_test.append(last_60_days_scaled)\n",
    "#Convert the X_test to numpy array\n",
    "X_test=np.array(X_test)\n",
    "#Reshape the data(shape become 3 dimensional)\n",
    "X_test=np.reshape(X_test,(X_test.shape[0],X_test.shape[1],1))\n",
    "#Get the predicted scaled price\n",
    "pred_price =model.predict(X_test)\n",
    "#undo the scaling\n",
    "pred_price =scaler.inverse_transform(pred_price)\n",
    "print(pred_price)"
   ]
  },
  {
   "cell_type": "code",
   "execution_count": 26,
   "metadata": {},
   "outputs": [
    {
     "name": "stdout",
     "output_type": "stream",
     "text": [
      "[*********************100%***********************]  1 of 1 completed\n",
      "Date\n",
      "2022-01-04    179.699997\n",
      "Name: Close, dtype: float64\n"
     ]
    }
   ],
   "source": [
    "#Get the real price for this date 2022-01-04\n",
    "apple_quote2=pdr.get_data_yahoo('AAPL','2022-01-05','2022-01-05')\n",
    "print(apple_quote2['Close'])"
   ]
  },
  {
   "cell_type": "markdown",
   "metadata": {},
   "source": [
    "# Predicted Crynptocurrince for Bitcoin "
   ]
  },
  {
   "cell_type": "code",
   "execution_count": 27,
   "metadata": {},
   "outputs": [
    {
     "name": "stdout",
     "output_type": "stream",
     "text": [
      "[*********************100%***********************]  1 of 1 completed\n",
      "[[47955.023]]\n"
     ]
    }
   ],
   "source": [
    "#BTC\n",
    "#predicted the close price for this date 2022-01-04\n",
    "#Get the qoute\n",
    "BTC_quote=pdr.get_data_yahoo('BTC-USD','2011-01-01','2022-01-03')\n",
    "#Create a new dataframe\n",
    "new_df=BTC_quote[['Close']]\n",
    "#Get last 60 day closing price values and convert the dataframe to an array\n",
    "last_60_days= new_df[-60:].values\n",
    "#Scale the data to be values between 0 and 1\n",
    "last_60_days_scaled=scaler.fit_transform(last_60_days)\n",
    "#Create empty list\n",
    "X_test=[]\n",
    "#Append past 60 days\n",
    "X_test.append(last_60_days_scaled)\n",
    "#Convert the X_test to numpy array\n",
    "X_test=np.array(X_test)\n",
    "#Reshape the data(shape become 3 dimensional)\n",
    "X_test=np.reshape(X_test,(X_test.shape[0],X_test.shape[1],1))\n",
    "#Get the predicted scaled price\n",
    "pred_price =model.predict(X_test)\n",
    "#undo the scaling\n",
    "pred_price =scaler.inverse_transform(pred_price)\n",
    "print(pred_price)"
   ]
  },
  {
   "cell_type": "code",
   "execution_count": 28,
   "metadata": {},
   "outputs": [
    {
     "name": "stdout",
     "output_type": "stream",
     "text": [
      "[*********************100%***********************]  1 of 1 completed\n",
      "Date\n",
      "2022-01-04    45897.574219\n",
      "Name: Close, dtype: float64\n"
     ]
    }
   ],
   "source": [
    "#Get the real price for this date 2022-01-04\n",
    "BTC_quote2=pdr.get_data_yahoo('BTC-USD','2022-01-05','2022-01-05')\n",
    "print(BTC_quote2['Close'])"
   ]
  },
  {
   "cell_type": "markdown",
   "metadata": {},
   "source": [
    "# Predicted for Stock Market in The Future"
   ]
  },
  {
   "cell_type": "code",
   "execution_count": 29,
   "metadata": {},
   "outputs": [],
   "source": [
    "projection=30\n",
    "df['Projection']= df[['Close']].shift(-projection)\n"
   ]
  },
  {
   "cell_type": "code",
   "execution_count": 30,
   "metadata": {},
   "outputs": [
    {
     "data": {
      "text/html": [
       "<div>\n",
       "<style scoped>\n",
       "    .dataframe tbody tr th:only-of-type {\n",
       "        vertical-align: middle;\n",
       "    }\n",
       "\n",
       "    .dataframe tbody tr th {\n",
       "        vertical-align: top;\n",
       "    }\n",
       "\n",
       "    .dataframe thead th {\n",
       "        text-align: right;\n",
       "    }\n",
       "</style>\n",
       "<table border=\"1\" class=\"dataframe\">\n",
       "  <thead>\n",
       "    <tr style=\"text-align: right;\">\n",
       "      <th></th>\n",
       "      <th>Open</th>\n",
       "      <th>High</th>\n",
       "      <th>Low</th>\n",
       "      <th>Close</th>\n",
       "      <th>Adj Close</th>\n",
       "      <th>Volume</th>\n",
       "      <th>Projection</th>\n",
       "    </tr>\n",
       "    <tr>\n",
       "      <th>Date</th>\n",
       "      <th></th>\n",
       "      <th></th>\n",
       "      <th></th>\n",
       "      <th></th>\n",
       "      <th></th>\n",
       "      <th></th>\n",
       "      <th></th>\n",
       "    </tr>\n",
       "  </thead>\n",
       "  <tbody>\n",
       "    <tr>\n",
       "      <th>2010-12-31</th>\n",
       "      <td>11.533929</td>\n",
       "      <td>11.552857</td>\n",
       "      <td>11.475357</td>\n",
       "      <td>11.520000</td>\n",
       "      <td>9.876848</td>\n",
       "      <td>193508000</td>\n",
       "      <td>12.827857</td>\n",
       "    </tr>\n",
       "    <tr>\n",
       "      <th>2011-01-03</th>\n",
       "      <td>11.630000</td>\n",
       "      <td>11.795000</td>\n",
       "      <td>11.601429</td>\n",
       "      <td>11.770357</td>\n",
       "      <td>10.091494</td>\n",
       "      <td>445138400</td>\n",
       "      <td>12.853571</td>\n",
       "    </tr>\n",
       "    <tr>\n",
       "      <th>2011-01-04</th>\n",
       "      <td>11.872857</td>\n",
       "      <td>11.875000</td>\n",
       "      <td>11.719643</td>\n",
       "      <td>11.831786</td>\n",
       "      <td>10.144159</td>\n",
       "      <td>309080800</td>\n",
       "      <td>12.968929</td>\n",
       "    </tr>\n",
       "    <tr>\n",
       "      <th>2011-01-05</th>\n",
       "      <td>11.769643</td>\n",
       "      <td>11.940714</td>\n",
       "      <td>11.767857</td>\n",
       "      <td>11.928571</td>\n",
       "      <td>10.227142</td>\n",
       "      <td>255519600</td>\n",
       "      <td>12.796429</td>\n",
       "    </tr>\n",
       "    <tr>\n",
       "      <th>2011-01-06</th>\n",
       "      <td>11.954286</td>\n",
       "      <td>11.973214</td>\n",
       "      <td>11.889286</td>\n",
       "      <td>11.918929</td>\n",
       "      <td>10.218876</td>\n",
       "      <td>300428800</td>\n",
       "      <td>12.520000</td>\n",
       "    </tr>\n",
       "    <tr>\n",
       "      <th>...</th>\n",
       "      <td>...</td>\n",
       "      <td>...</td>\n",
       "      <td>...</td>\n",
       "      <td>...</td>\n",
       "      <td>...</td>\n",
       "      <td>...</td>\n",
       "      <td>...</td>\n",
       "    </tr>\n",
       "    <tr>\n",
       "      <th>2021-12-23</th>\n",
       "      <td>175.850006</td>\n",
       "      <td>176.850006</td>\n",
       "      <td>175.270004</td>\n",
       "      <td>176.279999</td>\n",
       "      <td>176.279999</td>\n",
       "      <td>68356600</td>\n",
       "      <td>NaN</td>\n",
       "    </tr>\n",
       "    <tr>\n",
       "      <th>2021-12-27</th>\n",
       "      <td>177.089996</td>\n",
       "      <td>180.419998</td>\n",
       "      <td>177.070007</td>\n",
       "      <td>180.330002</td>\n",
       "      <td>180.330002</td>\n",
       "      <td>74919600</td>\n",
       "      <td>NaN</td>\n",
       "    </tr>\n",
       "    <tr>\n",
       "      <th>2021-12-28</th>\n",
       "      <td>180.160004</td>\n",
       "      <td>181.330002</td>\n",
       "      <td>178.529999</td>\n",
       "      <td>179.289993</td>\n",
       "      <td>179.289993</td>\n",
       "      <td>79144300</td>\n",
       "      <td>NaN</td>\n",
       "    </tr>\n",
       "    <tr>\n",
       "      <th>2021-12-29</th>\n",
       "      <td>179.330002</td>\n",
       "      <td>180.630005</td>\n",
       "      <td>178.139999</td>\n",
       "      <td>179.380005</td>\n",
       "      <td>179.380005</td>\n",
       "      <td>62348900</td>\n",
       "      <td>NaN</td>\n",
       "    </tr>\n",
       "    <tr>\n",
       "      <th>2021-12-30</th>\n",
       "      <td>179.470001</td>\n",
       "      <td>180.570007</td>\n",
       "      <td>178.089996</td>\n",
       "      <td>178.199997</td>\n",
       "      <td>178.199997</td>\n",
       "      <td>59773000</td>\n",
       "      <td>NaN</td>\n",
       "    </tr>\n",
       "  </tbody>\n",
       "</table>\n",
       "<p>2769 rows × 7 columns</p>\n",
       "</div>"
      ],
      "text/plain": [
       "                  Open        High         Low       Close   Adj Close  \\\n",
       "Date                                                                     \n",
       "2010-12-31   11.533929   11.552857   11.475357   11.520000    9.876848   \n",
       "2011-01-03   11.630000   11.795000   11.601429   11.770357   10.091494   \n",
       "2011-01-04   11.872857   11.875000   11.719643   11.831786   10.144159   \n",
       "2011-01-05   11.769643   11.940714   11.767857   11.928571   10.227142   \n",
       "2011-01-06   11.954286   11.973214   11.889286   11.918929   10.218876   \n",
       "...                ...         ...         ...         ...         ...   \n",
       "2021-12-23  175.850006  176.850006  175.270004  176.279999  176.279999   \n",
       "2021-12-27  177.089996  180.419998  177.070007  180.330002  180.330002   \n",
       "2021-12-28  180.160004  181.330002  178.529999  179.289993  179.289993   \n",
       "2021-12-29  179.330002  180.630005  178.139999  179.380005  179.380005   \n",
       "2021-12-30  179.470001  180.570007  178.089996  178.199997  178.199997   \n",
       "\n",
       "               Volume  Projection  \n",
       "Date                               \n",
       "2010-12-31  193508000   12.827857  \n",
       "2011-01-03  445138400   12.853571  \n",
       "2011-01-04  309080800   12.968929  \n",
       "2011-01-05  255519600   12.796429  \n",
       "2011-01-06  300428800   12.520000  \n",
       "...               ...         ...  \n",
       "2021-12-23   68356600         NaN  \n",
       "2021-12-27   74919600         NaN  \n",
       "2021-12-28   79144300         NaN  \n",
       "2021-12-29   62348900         NaN  \n",
       "2021-12-30   59773000         NaN  \n",
       "\n",
       "[2769 rows x 7 columns]"
      ]
     },
     "execution_count": 30,
     "metadata": {},
     "output_type": "execute_result"
    }
   ],
   "source": [
    "X=np.array(df[['Close']])\n",
    "X=X[:-projection]\n",
    "#print(X)\n",
    "df\n"
   ]
  },
  {
   "cell_type": "code",
   "execution_count": 31,
   "metadata": {},
   "outputs": [
    {
     "name": "stdout",
     "output_type": "stream",
     "text": [
      "[ 12.82785702  12.85357094  12.96892929 ... 179.28999329 179.38000488\n",
      " 178.19999695]\n"
     ]
    }
   ],
   "source": [
    "y=df['Projection'].values\n",
    "y=y[:-projection]\n",
    "print(y)\n"
   ]
  },
  {
   "cell_type": "code",
   "execution_count": 32,
   "metadata": {},
   "outputs": [],
   "source": [
    "x_train,x_test,y_train,y_test = train_test_split(X,y,test_size=.15)\n"
   ]
  },
  {
   "cell_type": "code",
   "execution_count": 45,
   "metadata": {},
   "outputs": [
    {
     "data": {
      "text/plain": [
       "LinearRegression()"
      ]
     },
     "execution_count": 45,
     "metadata": {},
     "output_type": "execute_result"
    }
   ],
   "source": [
    "linReg = LinearRegression()\n",
    "linReg.fit(x_train, y_train)\n",
    "\n",
    "LinearRegression(copy_X=True,fit_intercept=True, n_jobs=None,normalize=False)\n"
   ]
  },
  {
   "cell_type": "code",
   "execution_count": 46,
   "metadata": {},
   "outputs": [
    {
     "name": "stdout",
     "output_type": "stream",
     "text": [
      "0.9793692518157979\n"
     ]
    }
   ],
   "source": [
    "from sklearn.linear_model import LinearRegression\n",
    "model_confidence=linReg.score(x_test, y_test)\n",
    "print(model_confidence)\n"
   ]
  },
  {
   "cell_type": "code",
   "execution_count": 38,
   "metadata": {},
   "outputs": [
    {
     "name": "stdout",
     "output_type": "stream",
     "text": [
      "[[153.49000549]\n",
      " [157.86999512]\n",
      " [160.55000305]\n",
      " [161.02000427]\n",
      " [161.41000366]\n",
      " [161.94000244]\n",
      " [156.80999756]\n",
      " [160.24000549]\n",
      " [165.30000305]\n",
      " [164.77000427]\n",
      " [163.75999451]\n",
      " [161.83999634]\n",
      " [165.32000732]\n",
      " [171.17999268]\n",
      " [175.08000183]\n",
      " [174.55999756]\n",
      " [179.44999695]\n",
      " [175.74000549]\n",
      " [174.33000183]\n",
      " [179.30000305]\n",
      " [172.25999451]\n",
      " [171.13999939]\n",
      " [169.75      ]\n",
      " [172.99000549]\n",
      " [175.63999939]\n",
      " [176.27999878]\n",
      " [180.33000183]\n",
      " [179.28999329]\n",
      " [179.38000488]\n",
      " [178.19999695]]\n"
     ]
    }
   ],
   "source": [
    "x_projection=np.array(df[['Close']])[-projection:]\n",
    "print(x_projection)\n"
   ]
  },
  {
   "cell_type": "code",
   "execution_count": 51,
   "metadata": {},
   "outputs": [
    {
     "name": "stdout",
     "output_type": "stream",
     "text": [
      "[160.40767811 164.99477476 167.80150639 168.29373153 168.70217197\n",
      " 169.25723165 163.88465541 167.47685065 172.77610929 172.22104961\n",
      " 171.16328171 169.15249678 172.79705946 178.93413316 183.01855355\n",
      " 182.47396097 187.5951831  183.70976537 182.23308994 187.43809677\n",
      " 180.06520269 178.8922488  177.43652354 180.82973211 183.60503049\n",
      " 184.27529214 188.51679886 187.4276137  187.52188148 186.28607708]\n"
     ]
    }
   ],
   "source": [
    "linReg_prodection=linReg.predict(x_projection)\n",
    "print(linReg_prodection)"
   ]
  },
  {
   "cell_type": "code",
   "execution_count": 67,
   "metadata": {},
   "outputs": [
    {
     "data": {
      "image/png": "[encoded data removed]",
      "text/plain": [
       "<Figure size 1152x576 with 1 Axes>"
      ]
     },
     "metadata": {
      "needs_background": "light"
     },
     "output_type": "display_data"
    }
   ],
   "source": [
    "#fig, ax = plt.subplots()\n",
    "\n",
    "plt.figure(figsize=(16,8))\n",
    "plt.title('Model')\n",
    "plt.xlabel('Date',fontsize=18)\n",
    "plt.ylabel('Close Price USD($)',fontsize=18)\n",
    "plt.plot(linReg_prodection)\n",
    "#plt.plot(valid[['Close', 'linReg_prodection']])\n",
    "plt.legend(['predictions'],loc='lower right')\n",
    "\n",
    "\n",
    "plt.show()\n"
   ]
  },
  {
   "cell_type": "code",
   "execution_count": 44,
   "metadata": {},
   "outputs": [
    {
     "name": "stdout",
     "output_type": "stream",
     "text": [
      "2328/2328 [==============================] - 13s 6ms/step - loss: 53.5864\n"
     ]
    },
    {
     "data": {
      "text/plain": [
       "<keras.callbacks.History at 0x1ca02467fd0>"
      ]
     },
     "execution_count": 44,
     "metadata": {},
     "output_type": "execute_result"
    }
   ],
   "source": [
    "model.fit(x_train,y_train,batch_size=1,epochs=1)\n"
   ]
  },
  {
   "cell_type": "code",
   "execution_count": 48,
   "metadata": {},
   "outputs": [],
   "source": [
    "NP=model.predict(x_projection)"
   ]
  },
  {
   "cell_type": "code",
   "execution_count": 49,
   "metadata": {},
   "outputs": [
    {
     "data": {
      "image/png": "[encoded data removed]",
      "text/plain": [
       "<Figure size 1152x576 with 1 Axes>"
      ]
     },
     "metadata": {
      "needs_background": "light"
     },
     "output_type": "display_data"
    }
   ],
   "source": [
    "plt.figure(figsize=(16,8))\n",
    "plt.title('Model')\n",
    "plt.xlabel('Date',fontsize=18)\n",
    "plt.ylabel('Close Price USD($)',fontsize=18)\n",
    "plt.plot(NP)\n",
    "plt.legend(['Train','Val','predictions'],loc='lower right')\n",
    "plt.show()"
   ]
  },
  {
   "cell_type": "code",
   "execution_count": null,
   "metadata": {},
   "outputs": [],
   "source": []
  }
 ],
 "metadata": {
  "interpreter": {
   "hash": "b1295f837331a4625ea8867703801c7b4b917abfed4741b6633e37751affeda7"
  },
  "kernelspec": {
   "display_name": "Python 3",
   "language": "python",
   "name": "python3"
  },
  "language_info": {
   "codemirror_mode": {
    "name": "ipython",
    "version": 3
   },
   "file_extension": ".py",
   "mimetype": "text/x-python",
   "name": "python",
   "nbconvert_exporter": "python",
   "pygments_lexer": "ipython3",
   "version": "3.8.8"
  }
 },
 "nbformat": 4,
 "nbformat_minor": 4
}
