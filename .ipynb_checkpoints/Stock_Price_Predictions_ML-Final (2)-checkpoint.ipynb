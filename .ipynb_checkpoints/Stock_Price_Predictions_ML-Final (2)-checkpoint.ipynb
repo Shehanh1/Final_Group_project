{
 "cells": [
  {
   "cell_type": "markdown",
   "metadata": {},
   "source": [
    "\n",
    "## Group Number – 3\n",
    "## Group Name – Tech Up\n",
    "## Group Members:\n",
    "1. Basma Aldamegh\n",
    "2. Eithar Alahmadi\n",
    "3. Mona Alomari\n",
    "4. Shehanh Alotaibi\n",
    "5. Zainab Aljohani"
   ]
  },
  {
   "cell_type": "markdown",
   "metadata": {},
   "source": [
    "# Project: Predict Future Stock Prices – Machine Learning\n",
    "\n",
    "## Introduction:\n",
    "We will implement a mix of machine learning algorithms to predict the future stock price of this company, starting with simple algorithms like averaging and linear regression, and then move on to advanced techniques like using the LSTM neural network.\n",
    "\n",
    "# Dataset (Apple):\n",
    "From historical data (https://finance.yahoo.com/quote/AAPL/history?p=AAPL)\n",
    "\n",
    "\n",
    "\n",
    "\n",
    "\n"
   ]
  },
  {
   "cell_type": "code",
   "execution_count": 1,
   "metadata": {},
   "outputs": [],
   "source": [
    "#This program uses an artificial recurrent neural network called Long Short Term Memory(LSTM)\n",
    "#to predict the closing stock price of a corporation(Apple Inc.).\n",
    "#import the libraries\n",
    "import pandas as pd\n",
    "import numpy as np\n",
    "import datetime as dt\n",
    "import yfinance as yf\n",
    "from pandas_datareader import data as pdr\n",
    "yf.pdr_override()\n",
    "from sklearn.preprocessing import MinMaxScaler\n",
    "from sklearn import metrics\n",
    "from sklearn.model_selection import train_test_split\n",
    "from sklearn.linear_model import LinearRegression\n",
    "from keras.models import Sequential \n",
    "from keras.layers import LSTM,Dense\n",
    "import matplotlib.pyplot as plt"
   ]
  },
  {
   "cell_type": "markdown",
   "metadata": {
    "tags": []
   },
   "source": [
    "# Get Data (Apple)"
   ]
  },
  {
   "cell_type": "code",
   "execution_count": 2,
   "metadata": {},
   "outputs": [
    {
     "name": "stdout",
     "output_type": "stream",
     "text": [
      "[*********************100%***********************]  1 of 1 completed\n"
     ]
    }
   ],
   "source": [
    "#Get the stock quote\n",
    "Apple_df=pdr.get_data_yahoo('AAPL','2011-01-01','2021-12-31')"
   ]
  },
  {
   "cell_type": "code",
   "execution_count": 3,
   "metadata": {},
   "outputs": [
    {
     "data": {
      "text/html": [
       "<div>\n",
       "<style scoped>\n",
       "    .dataframe tbody tr th:only-of-type {\n",
       "        vertical-align: middle;\n",
       "    }\n",
       "\n",
       "    .dataframe tbody tr th {\n",
       "        vertical-align: top;\n",
       "    }\n",
       "\n",
       "    .dataframe thead th {\n",
       "        text-align: right;\n",
       "    }\n",
       "</style>\n",
       "<table border=\"1\" class=\"dataframe\">\n",
       "  <thead>\n",
       "    <tr style=\"text-align: right;\">\n",
       "      <th></th>\n",
       "      <th>Open</th>\n",
       "      <th>High</th>\n",
       "      <th>Low</th>\n",
       "      <th>Close</th>\n",
       "      <th>Adj Close</th>\n",
       "      <th>Volume</th>\n",
       "    </tr>\n",
       "    <tr>\n",
       "      <th>Date</th>\n",
       "      <th></th>\n",
       "      <th></th>\n",
       "      <th></th>\n",
       "      <th></th>\n",
       "      <th></th>\n",
       "      <th></th>\n",
       "    </tr>\n",
       "  </thead>\n",
       "  <tbody>\n",
       "    <tr>\n",
       "      <th>2010-12-31</th>\n",
       "      <td>11.533929</td>\n",
       "      <td>11.552857</td>\n",
       "      <td>11.475357</td>\n",
       "      <td>11.520000</td>\n",
       "      <td>9.876846</td>\n",
       "      <td>193508000</td>\n",
       "    </tr>\n",
       "    <tr>\n",
       "      <th>2011-01-03</th>\n",
       "      <td>11.630000</td>\n",
       "      <td>11.795000</td>\n",
       "      <td>11.601429</td>\n",
       "      <td>11.770357</td>\n",
       "      <td>10.091494</td>\n",
       "      <td>445138400</td>\n",
       "    </tr>\n",
       "    <tr>\n",
       "      <th>2011-01-04</th>\n",
       "      <td>11.872857</td>\n",
       "      <td>11.875000</td>\n",
       "      <td>11.719643</td>\n",
       "      <td>11.831786</td>\n",
       "      <td>10.144160</td>\n",
       "      <td>309080800</td>\n",
       "    </tr>\n",
       "    <tr>\n",
       "      <th>2011-01-05</th>\n",
       "      <td>11.769643</td>\n",
       "      <td>11.940714</td>\n",
       "      <td>11.767857</td>\n",
       "      <td>11.928571</td>\n",
       "      <td>10.227140</td>\n",
       "      <td>255519600</td>\n",
       "    </tr>\n",
       "    <tr>\n",
       "      <th>2011-01-06</th>\n",
       "      <td>11.954286</td>\n",
       "      <td>11.973214</td>\n",
       "      <td>11.889286</td>\n",
       "      <td>11.918929</td>\n",
       "      <td>10.218874</td>\n",
       "      <td>300428800</td>\n",
       "    </tr>\n",
       "    <tr>\n",
       "      <th>...</th>\n",
       "      <td>...</td>\n",
       "      <td>...</td>\n",
       "      <td>...</td>\n",
       "      <td>...</td>\n",
       "      <td>...</td>\n",
       "      <td>...</td>\n",
       "    </tr>\n",
       "    <tr>\n",
       "      <th>2021-12-23</th>\n",
       "      <td>175.850006</td>\n",
       "      <td>176.850006</td>\n",
       "      <td>175.270004</td>\n",
       "      <td>176.279999</td>\n",
       "      <td>176.279999</td>\n",
       "      <td>68356600</td>\n",
       "    </tr>\n",
       "    <tr>\n",
       "      <th>2021-12-27</th>\n",
       "      <td>177.089996</td>\n",
       "      <td>180.419998</td>\n",
       "      <td>177.070007</td>\n",
       "      <td>180.330002</td>\n",
       "      <td>180.330002</td>\n",
       "      <td>74919600</td>\n",
       "    </tr>\n",
       "    <tr>\n",
       "      <th>2021-12-28</th>\n",
       "      <td>180.160004</td>\n",
       "      <td>181.330002</td>\n",
       "      <td>178.529999</td>\n",
       "      <td>179.289993</td>\n",
       "      <td>179.289993</td>\n",
       "      <td>79144300</td>\n",
       "    </tr>\n",
       "    <tr>\n",
       "      <th>2021-12-29</th>\n",
       "      <td>179.330002</td>\n",
       "      <td>180.630005</td>\n",
       "      <td>178.139999</td>\n",
       "      <td>179.380005</td>\n",
       "      <td>179.380005</td>\n",
       "      <td>62348900</td>\n",
       "    </tr>\n",
       "    <tr>\n",
       "      <th>2021-12-30</th>\n",
       "      <td>179.470001</td>\n",
       "      <td>180.570007</td>\n",
       "      <td>178.089996</td>\n",
       "      <td>178.199997</td>\n",
       "      <td>178.199997</td>\n",
       "      <td>59773000</td>\n",
       "    </tr>\n",
       "  </tbody>\n",
       "</table>\n",
       "<p>2769 rows × 6 columns</p>\n",
       "</div>"
      ],
      "text/plain": [
       "                  Open        High         Low       Close   Adj Close  \\\n",
       "Date                                                                     \n",
       "2010-12-31   11.533929   11.552857   11.475357   11.520000    9.876846   \n",
       "2011-01-03   11.630000   11.795000   11.601429   11.770357   10.091494   \n",
       "2011-01-04   11.872857   11.875000   11.719643   11.831786   10.144160   \n",
       "2011-01-05   11.769643   11.940714   11.767857   11.928571   10.227140   \n",
       "2011-01-06   11.954286   11.973214   11.889286   11.918929   10.218874   \n",
       "...                ...         ...         ...         ...         ...   \n",
       "2021-12-23  175.850006  176.850006  175.270004  176.279999  176.279999   \n",
       "2021-12-27  177.089996  180.419998  177.070007  180.330002  180.330002   \n",
       "2021-12-28  180.160004  181.330002  178.529999  179.289993  179.289993   \n",
       "2021-12-29  179.330002  180.630005  178.139999  179.380005  179.380005   \n",
       "2021-12-30  179.470001  180.570007  178.089996  178.199997  178.199997   \n",
       "\n",
       "               Volume  \n",
       "Date                   \n",
       "2010-12-31  193508000  \n",
       "2011-01-03  445138400  \n",
       "2011-01-04  309080800  \n",
       "2011-01-05  255519600  \n",
       "2011-01-06  300428800  \n",
       "...               ...  \n",
       "2021-12-23   68356600  \n",
       "2021-12-27   74919600  \n",
       "2021-12-28   79144300  \n",
       "2021-12-29   62348900  \n",
       "2021-12-30   59773000  \n",
       "\n",
       "[2769 rows x 6 columns]"
      ]
     },
     "execution_count": 3,
     "metadata": {},
     "output_type": "execute_result"
    }
   ],
   "source": [
    "#Show the Data\n",
    "Apple_df"
   ]
  },
  {
   "cell_type": "code",
   "execution_count": 4,
   "metadata": {},
   "outputs": [
    {
     "data": {
      "text/plain": [
       "(2769, 6)"
      ]
     },
     "execution_count": 4,
     "metadata": {},
     "output_type": "execute_result"
    }
   ],
   "source": [
    "#Get the number of rows and columns in the data set\n",
    "Apple_df.shape"
   ]
  },
  {
   "cell_type": "markdown",
   "metadata": {},
   "source": [
    "# Data Visualization"
   ]
  },
  {
   "cell_type": "code",
   "execution_count": 5,
   "metadata": {},
   "outputs": [
    {
     "data": {
      "image/png": "[encoded data removed]",
      "text/plain": [
       "<Figure size 1152x576 with 1 Axes>"
      ]
     },
     "metadata": {
      "needs_background": "light"
     },
     "output_type": "display_data"
    }
   ],
   "source": [
    "#Visualize the closing price history\n",
    "plt.figure(figsize=(16,8))\n",
    "plt.title('Apple Close Price History')\n",
    "plt.plot(Apple_df['Close'])\n",
    "plt.xlabel('Date',fontsize=18)\n",
    "plt.ylabel('Close Price USD ($)',fontsize=18)\n",
    "plt.show()"
   ]
  },
  {
   "cell_type": "markdown",
   "metadata": {},
   "source": [
    "# Splitting Data into a Training set and a Test set"
   ]
  },
  {
   "cell_type": "code",
   "execution_count": 6,
   "metadata": {},
   "outputs": [
    {
     "data": {
      "text/plain": [
       "2215"
      ]
     },
     "execution_count": 6,
     "metadata": {},
     "output_type": "execute_result"
    }
   ],
   "source": [
    "#Create a new dataframe with only the Close column\n",
    "Apple_data = Apple_df[['Close']]\n",
    "\n",
    "#Convert dataFrame to a numpy array\n",
    "Apple_dataset = Apple_data.values\n",
    "\n",
    "#Get the number of rows to train the model on \n",
    "training_data_len =int(0.8*len(Apple_dataset))\n",
    "training_data_len"
   ]
  },
  {
   "cell_type": "code",
   "execution_count": 7,
   "metadata": {},
   "outputs": [
    {
     "data": {
      "text/plain": [
       "array([[0.00152939],\n",
       "       [0.00301019],\n",
       "       [0.00337353],\n",
       "       ...,\n",
       "       [0.9938486 ],\n",
       "       [0.994381  ],\n",
       "       [0.98740153]])"
      ]
     },
     "execution_count": 7,
     "metadata": {},
     "output_type": "execute_result"
    }
   ],
   "source": [
    "#Scale the data(transform the data between 0 and 1)\n",
    "Apple_scaler=MinMaxScaler(feature_range=(0,1))\n",
    "Apple_scaled_data =Apple_scaler.fit_transform(Apple_dataset)\n",
    "Apple_scaled_data"
   ]
  },
  {
   "cell_type": "code",
   "execution_count": 8,
   "metadata": {},
   "outputs": [
    {
     "name": "stdout",
     "output_type": "stream",
     "text": [
      "[array([0.00152939, 0.00301019, 0.00337353, 0.00394598, 0.00388896,\n",
      "       0.00439382, 0.00573098, 0.00555988, 0.00614712, 0.00641328,\n",
      "       0.00700476, 0.00535074, 0.0049684 , 0.00366715, 0.00240815,\n",
      "       0.00467478, 0.00550917, 0.00602672, 0.00589152, 0.00438959,\n",
      "       0.00506979, 0.00627598, 0.006126  , 0.0059401 , 0.00658651,\n",
      "       0.00772299, 0.0084243 , 0.00904958, 0.00828489, 0.00877286,\n",
      "       0.00926505, 0.00941714, 0.01009946, 0.00907916, 0.00744415,\n",
      "       0.00491981, 0.00576689, 0.00582181, 0.00693717, 0.00800394,\n",
      "       0.00718009, 0.00777368, 0.00934532, 0.00943827, 0.00845811,\n",
      "       0.0085426 , 0.00784762, 0.00662242, 0.00774622, 0.00807787,\n",
      "       0.00636048, 0.00310313, 0.00408119, 0.00324255, 0.00506557,\n",
      "       0.00546692, 0.00504233, 0.00626331, 0.00765116, 0.00741879])]\n",
      "[0.0075286417207532375]\n",
      "\n"
     ]
    }
   ],
   "source": [
    "#Create the training data set \n",
    "#Create the scaled training data set\n",
    "Apple_train_data=Apple_scaled_data[0:training_data_len,:]\n",
    "#train_data\n",
    "#Split the data into x_train and y_train data set\n",
    "x_train_A=[]\n",
    "y_train_A=[]\n",
    "\n",
    "\n",
    "for i in range(60,len(Apple_train_data)):\n",
    "    x_train_A.append(Apple_train_data[i-60:i,0])\n",
    "    y_train_A.append(Apple_train_data[i,0])\n",
    "    if i <=60:\n",
    "        print(x_train_A)\n",
    "        print(y_train_A)\n",
    "        print()"
   ]
  },
  {
   "cell_type": "code",
   "execution_count": 9,
   "metadata": {},
   "outputs": [],
   "source": [
    "#Convert the x_train and y_train to numpy arrays\n",
    "x_train_A, y_train_A=np.array(x_train_A),np.array(y_train_A)"
   ]
  },
  {
   "cell_type": "code",
   "execution_count": 10,
   "metadata": {},
   "outputs": [
    {
     "data": {
      "text/plain": [
       "(2155, 60, 1)"
      ]
     },
     "execution_count": 10,
     "metadata": {},
     "output_type": "execute_result"
    }
   ],
   "source": [
    "#Reshape the data(shape become 3 dimensional)\n",
    "x_train_A=np.reshape(x_train_A,(x_train_A.shape[0],x_train_A.shape[1],1))\n",
    "x_train_A.shape"
   ]
  },
  {
   "cell_type": "markdown",
   "metadata": {
    "tags": []
   },
   "source": [
    "# Build Machine Learning Model (Apple)"
   ]
  },
  {
   "cell_type": "code",
   "execution_count": 11,
   "metadata": {},
   "outputs": [
    {
     "name": "stderr",
     "output_type": "stream",
     "text": [
      "2022-01-10 10:39:50.932425: I tensorflow/core/platform/cpu_feature_guard.cc:142] This TensorFlow binary is optimized with oneAPI Deep Neural Network Library (oneDNN) to use the following CPU instructions in performance-critical operations:  AVX2 FMA\n",
      "To enable them in other operations, rebuild TensorFlow with the appropriate compiler flags.\n"
     ]
    }
   ],
   "source": [
    "#Bulid the LSTM model\n",
    "Apple_model=Sequential()\n",
    "#add the layer to the model\n",
    "Apple_model.add(LSTM(50,return_sequences=True,input_shape=(x_train_A.shape[1],1)))\n",
    "Apple_model.add(LSTM(50,return_sequences=False))\n",
    "Apple_model.add(Dense(25))\n",
    "Apple_model.add(Dense(1))"
   ]
  },
  {
   "cell_type": "code",
   "execution_count": 12,
   "metadata": {},
   "outputs": [],
   "source": [
    "#Compile the model\n",
    "Apple_model.compile(optimizer='adam',loss='mean_squared_error')"
   ]
  },
  {
   "cell_type": "code",
   "execution_count": 13,
   "metadata": {},
   "outputs": [
    {
     "name": "stderr",
     "output_type": "stream",
     "text": [
      "2022-01-10 10:39:52.991331: I tensorflow/compiler/mlir/mlir_graph_optimization_pass.cc:185] None of the MLIR Optimization Passes are enabled (registered 2)\n"
     ]
    },
    {
     "name": "stdout",
     "output_type": "stream",
     "text": [
      "2155/2155 [==============================] - 92s 41ms/step - loss: 1.5211e-04\n"
     ]
    },
    {
     "data": {
      "text/plain": [
       "<keras.callbacks.History at 0x15723de50>"
      ]
     },
     "execution_count": 13,
     "metadata": {},
     "output_type": "execute_result"
    }
   ],
   "source": [
    "#Train the model\n",
    "Apple_model.fit(x_train_A,y_train_A,batch_size=1,epochs=1)"
   ]
  },
  {
   "cell_type": "markdown",
   "metadata": {
    "tags": []
   },
   "source": [
    "# Save The Model (Apple)"
   ]
  },
  {
   "cell_type": "code",
   "execution_count": 14,
   "metadata": {},
   "outputs": [
    {
     "name": "stderr",
     "output_type": "stream",
     "text": [
      "2022-01-10 10:41:59.136500: W tensorflow/python/util/util.cc:348] Sets are not currently considered sequences, but this may change in the future, so consider avoiding using them.\n",
      "WARNING:absl:Found untraced functions such as lstm_cell_layer_call_fn, lstm_cell_layer_call_and_return_conditional_losses, lstm_cell_1_layer_call_fn, lstm_cell_1_layer_call_and_return_conditional_losses, lstm_cell_layer_call_fn while saving (showing 5 of 10). These functions will not be directly callable after loading.\n"
     ]
    },
    {
     "name": "stdout",
     "output_type": "stream",
     "text": [
      "INFO:tensorflow:Assets written to: Saved_LSTM_Model_Apple/assets\n"
     ]
    },
    {
     "name": "stderr",
     "output_type": "stream",
     "text": [
      "INFO:tensorflow:Assets written to: Saved_LSTM_Model_Apple/assets\n"
     ]
    }
   ],
   "source": [
    "Apple_model.save(\"Saved_LSTM_Model_Apple\")"
   ]
  },
  {
   "cell_type": "markdown",
   "metadata": {},
   "source": [
    "# Loading The Model "
   ]
  },
  {
   "cell_type": "code",
   "execution_count": 15,
   "metadata": {},
   "outputs": [],
   "source": [
    "from tensorflow import keras\n",
    "Apple_model = keras.models.load_model(\"Saved_LSTM_Model_Apple\")"
   ]
  },
  {
   "cell_type": "markdown",
   "metadata": {},
   "source": [
    "# Testing The LSTM Model (Apple) "
   ]
  },
  {
   "cell_type": "code",
   "execution_count": 16,
   "metadata": {},
   "outputs": [],
   "source": [
    "#Create the testing data set\n",
    "#Create a new array containing scaled values from index 2155 to 2769\n",
    "Apple_test_data=Apple_scaled_data[training_data_len - 60: , :]\n",
    "#Create the data sets x_test and y_test\n",
    "x_test_A=[]\n",
    "y_test_A=Apple_dataset[training_data_len:, :]\n",
    "\n",
    "for i in range(60,len(Apple_test_data)):\n",
    "    x_test_A.append(Apple_test_data[i-60:i,0])\n"
   ]
  },
  {
   "cell_type": "code",
   "execution_count": 17,
   "metadata": {},
   "outputs": [],
   "source": [
    "#Convert the data to a numpy array\n",
    "x_test_A = np.array(x_test_A)"
   ]
  },
  {
   "cell_type": "code",
   "execution_count": 18,
   "metadata": {},
   "outputs": [],
   "source": [
    "#Reshape the data(shape become 3 dimensional)\n",
    "x_test_A=np.reshape(x_test_A,(x_test_A.shape[0],x_test_A.shape[1],1))"
   ]
  },
  {
   "cell_type": "code",
   "execution_count": 19,
   "metadata": {},
   "outputs": [],
   "source": [
    "#Get the models predicted price values\n",
    "Apple_predictions =Apple_model.predict(x_test_A)\n",
    "Apple_predictions =Apple_scaler.inverse_transform(Apple_predictions)"
   ]
  },
  {
   "cell_type": "code",
   "execution_count": 20,
   "metadata": {},
   "outputs": [
    {
     "data": {
      "text/plain": [
       "8.897080177004156"
      ]
     },
     "execution_count": 20,
     "metadata": {},
     "output_type": "execute_result"
    }
   ],
   "source": [
    "#Get the root mean squared error(RMSE)\n",
    "Apple_rese= np.sqrt(np.mean(Apple_predictions - y_test_A)**2)\n",
    "Apple_rese"
   ]
  },
  {
   "cell_type": "code",
   "execution_count": 21,
   "metadata": {},
   "outputs": [
    {
     "name": "stderr",
     "output_type": "stream",
     "text": [
      "/var/folders/kq/z9bqrgmn3kn0h8vj6sy1cjvc0000gn/T/ipykernel_1746/2163227058.py:4: SettingWithCopyWarning: \n",
      "A value is trying to be set on a copy of a slice from a DataFrame.\n",
      "Try using .loc[row_indexer,col_indexer] = value instead\n",
      "\n",
      "See the caveats in the documentation: https://pandas.pydata.org/pandas-docs/stable/user_guide/indexing.html#returning-a-view-versus-a-copy\n",
      "  Apple_valid['predictions'] =Apple_predictions\n"
     ]
    },
    {
     "data": {
      "image/png": "[encoded data removed]",
      "text/plain": [
       "<Figure size 1152x576 with 1 Axes>"
      ]
     },
     "metadata": {
      "needs_background": "light"
     },
     "output_type": "display_data"
    }
   ],
   "source": [
    "#Plot the data\n",
    "Apple_train=Apple_data[:training_data_len]\n",
    "Apple_valid=Apple_data[training_data_len:]\n",
    "Apple_valid['predictions'] =Apple_predictions\n",
    "\n",
    "#Visualize the data\n",
    "plt.figure(figsize=(16,8))\n",
    "plt.title('Test LSTM Model (Apple Data)')\n",
    "plt.xlabel('Date',fontsize=18)\n",
    "plt.ylabel('Close Price USD($)',fontsize=18)\n",
    "plt.plot(Apple_train['Close'])\n",
    "plt.plot(Apple_valid[['Close','predictions']])\n",
    "plt.legend(['Train','Actual','predictions'],loc='lower right')\n",
    "plt.show()"
   ]
  },
  {
   "cell_type": "code",
   "execution_count": 22,
   "metadata": {},
   "outputs": [
    {
     "data": {
      "text/html": [
       "<div>\n",
       "<style scoped>\n",
       "    .dataframe tbody tr th:only-of-type {\n",
       "        vertical-align: middle;\n",
       "    }\n",
       "\n",
       "    .dataframe tbody tr th {\n",
       "        vertical-align: top;\n",
       "    }\n",
       "\n",
       "    .dataframe thead th {\n",
       "        text-align: right;\n",
       "    }\n",
       "</style>\n",
       "<table border=\"1\" class=\"dataframe\">\n",
       "  <thead>\n",
       "    <tr style=\"text-align: right;\">\n",
       "      <th></th>\n",
       "      <th>Close</th>\n",
       "      <th>predictions</th>\n",
       "    </tr>\n",
       "    <tr>\n",
       "      <th>Date</th>\n",
       "      <th></th>\n",
       "      <th></th>\n",
       "    </tr>\n",
       "  </thead>\n",
       "  <tbody>\n",
       "    <tr>\n",
       "      <th>2019-10-21</th>\n",
       "      <td>60.127499</td>\n",
       "      <td>56.483475</td>\n",
       "    </tr>\n",
       "    <tr>\n",
       "      <th>2019-10-22</th>\n",
       "      <td>59.990002</td>\n",
       "      <td>56.756866</td>\n",
       "    </tr>\n",
       "    <tr>\n",
       "      <th>2019-10-23</th>\n",
       "      <td>60.794998</td>\n",
       "      <td>57.017822</td>\n",
       "    </tr>\n",
       "    <tr>\n",
       "      <th>2019-10-24</th>\n",
       "      <td>60.895000</td>\n",
       "      <td>57.333813</td>\n",
       "    </tr>\n",
       "    <tr>\n",
       "      <th>2019-10-25</th>\n",
       "      <td>61.645000</td>\n",
       "      <td>57.649715</td>\n",
       "    </tr>\n",
       "    <tr>\n",
       "      <th>...</th>\n",
       "      <td>...</td>\n",
       "      <td>...</td>\n",
       "    </tr>\n",
       "    <tr>\n",
       "      <th>2021-12-23</th>\n",
       "      <td>176.279999</td>\n",
       "      <td>155.534164</td>\n",
       "    </tr>\n",
       "    <tr>\n",
       "      <th>2021-12-27</th>\n",
       "      <td>180.330002</td>\n",
       "      <td>155.803635</td>\n",
       "    </tr>\n",
       "    <tr>\n",
       "      <th>2021-12-28</th>\n",
       "      <td>179.289993</td>\n",
       "      <td>156.711792</td>\n",
       "    </tr>\n",
       "    <tr>\n",
       "      <th>2021-12-29</th>\n",
       "      <td>179.380005</td>\n",
       "      <td>157.652817</td>\n",
       "    </tr>\n",
       "    <tr>\n",
       "      <th>2021-12-30</th>\n",
       "      <td>178.199997</td>\n",
       "      <td>158.512222</td>\n",
       "    </tr>\n",
       "  </tbody>\n",
       "</table>\n",
       "<p>554 rows × 2 columns</p>\n",
       "</div>"
      ],
      "text/plain": [
       "                 Close  predictions\n",
       "Date                               \n",
       "2019-10-21   60.127499    56.483475\n",
       "2019-10-22   59.990002    56.756866\n",
       "2019-10-23   60.794998    57.017822\n",
       "2019-10-24   60.895000    57.333813\n",
       "2019-10-25   61.645000    57.649715\n",
       "...                ...          ...\n",
       "2021-12-23  176.279999   155.534164\n",
       "2021-12-27  180.330002   155.803635\n",
       "2021-12-28  179.289993   156.711792\n",
       "2021-12-29  179.380005   157.652817\n",
       "2021-12-30  178.199997   158.512222\n",
       "\n",
       "[554 rows x 2 columns]"
      ]
     },
     "execution_count": 22,
     "metadata": {},
     "output_type": "execute_result"
    }
   ],
   "source": [
    "#Show the valid (actual) and predicted prices\n",
    "Apple_valid"
   ]
  },
  {
   "cell_type": "markdown",
   "metadata": {},
   "source": [
    "# Predicted Stock Market for Apple (for a specific day)"
   ]
  },
  {
   "cell_type": "code",
   "execution_count": 23,
   "metadata": {},
   "outputs": [
    {
     "name": "stdout",
     "output_type": "stream",
     "text": [
      "[*********************100%***********************]  1 of 1 completed\n",
      "[[174.08759]]\n"
     ]
    }
   ],
   "source": [
    "#predicted the close price for this date 2022-01-03\n",
    "\n",
    "#Get the qoute\n",
    "apple_quote=pdr.get_data_yahoo('AAPL','2011-01-01','2022-01-03')\n",
    "#Create a new dataframe\n",
    "App_new_df=apple_quote[['Close']]\n",
    "#Get last 60 day closing price values and convert the dataframe to an array\n",
    "Alast_60_days= App_new_df[-60:].values\n",
    "#Scale the data to be values between 0 and 1\n",
    "Alast_60_days_scaled=Apple_scaler.fit_transform(Alast_60_days)\n",
    "#Create empty list\n",
    "x_test_A=[]\n",
    "#Append past 60 days\n",
    "x_test_A.append(Alast_60_days_scaled)\n",
    "#Convert the X_test to numpy array\n",
    "x_test_A=np.array(x_test_A)\n",
    "#Reshape the data(shape become 3 dimensional)\n",
    "x_test_A=np.reshape(x_test_A,(x_test_A.shape[0],x_test_A.shape[1],1))\n",
    "#Get the predicted scaled price\n",
    "Apple_pred_price =Apple_model.predict(x_test_A)\n",
    "#undo the scaling\n",
    "Apple_pred_price =Apple_scaler.inverse_transform(Apple_pred_price)\n",
    "print(Apple_pred_price)"
   ]
  },
  {
   "cell_type": "code",
   "execution_count": 24,
   "metadata": {},
   "outputs": [
    {
     "name": "stdout",
     "output_type": "stream",
     "text": [
      "[*********************100%***********************]  1 of 1 completed\n",
      "Date\n",
      "2022-01-03    182.009995\n",
      "Name: Close, dtype: float64\n"
     ]
    }
   ],
   "source": [
    "#Get the real price for this date 2022-01-03\n",
    "apple_quote2=pdr.get_data_yahoo('AAPL','2022-01-04','2022-01-04')\n",
    "print(apple_quote2['Close'])"
   ]
  },
  {
   "cell_type": "code",
   "execution_count": 25,
   "metadata": {},
   "outputs": [
    {
     "name": "stdout",
     "output_type": "stream",
     "text": [
      "[*********************100%***********************]  1 of 1 completed\n",
      "[[174.85236]]\n"
     ]
    }
   ],
   "source": [
    "#predicted the close price for this date 2022-01-04\n",
    "#Get the qoute\n",
    "apple_quote=pdr.get_data_yahoo('AAPL','2011-01-01','2022-01-04')\n",
    "#Create a new dataframe\n",
    "App_new_df2=apple_quote[['Close']]\n",
    "#Get last 60 day closing price values and convert the dataframe to an array\n",
    "Alast_60_days2= App_new_df2[-60:].values\n",
    "#Scale the data to be values between 0 and 1\n",
    "Alast_60_days_scaled2=Apple_scaler.fit_transform(Alast_60_days2)\n",
    "#Create empty list\n",
    "X_testA2=[]\n",
    "#Append past 60 days\n",
    "X_testA2.append(Alast_60_days_scaled2)\n",
    "#Convert the X_test to numpy array\n",
    "X_testA2=np.array(X_testA2)\n",
    "#Reshape the data(shape become 3 dimensional)\n",
    "X_testA2=np.reshape(X_testA2,(X_testA2.shape[0],X_testA2.shape[1],1))\n",
    "#Get the predicted scaled price\n",
    "Apple_pred_price2 =Apple_model.predict(X_testA2)\n",
    "#undo the scaling\n",
    "Apple_pred_price2 =Apple_scaler.inverse_transform(Apple_pred_price2)\n",
    "print(Apple_pred_price2)"
   ]
  },
  {
   "cell_type": "code",
   "execution_count": 26,
   "metadata": {},
   "outputs": [
    {
     "name": "stdout",
     "output_type": "stream",
     "text": [
      "[*********************100%***********************]  1 of 1 completed\n",
      "Date\n",
      "2022-01-04    179.699997\n",
      "Name: Close, dtype: float64\n"
     ]
    }
   ],
   "source": [
    "#Get the real price for this date 2022-01-04\n",
    "apple_quote2=pdr.get_data_yahoo('AAPL','2022-01-05','2022-01-05')\n",
    "print(apple_quote2['Close'])"
   ]
  },
  {
   "cell_type": "markdown",
   "metadata": {
    "tags": []
   },
   "source": [
    "# Get Data (Bitcoin)"
   ]
  },
  {
   "cell_type": "markdown",
   "metadata": {},
   "source": [
    "# Dataset (Bitcoin):\n",
    "From historical data (https://finance.yahoo.com/quote/BTC-USD?p=BTC-USD&.tsrc=fin-srch)"
   ]
  },
  {
   "cell_type": "code",
   "execution_count": 27,
   "metadata": {},
   "outputs": [
    {
     "name": "stdout",
     "output_type": "stream",
     "text": [
      "[*********************100%***********************]  1 of 1 completed\n"
     ]
    }
   ],
   "source": [
    "#Get the stock quote\n",
    "BTC_df=pdr.get_data_yahoo('BTC-USD','2011-01-01','2021-12-31')"
   ]
  },
  {
   "cell_type": "code",
   "execution_count": 28,
   "metadata": {},
   "outputs": [
    {
     "data": {
      "text/html": [
       "<div>\n",
       "<style scoped>\n",
       "    .dataframe tbody tr th:only-of-type {\n",
       "        vertical-align: middle;\n",
       "    }\n",
       "\n",
       "    .dataframe tbody tr th {\n",
       "        vertical-align: top;\n",
       "    }\n",
       "\n",
       "    .dataframe thead th {\n",
       "        text-align: right;\n",
       "    }\n",
       "</style>\n",
       "<table border=\"1\" class=\"dataframe\">\n",
       "  <thead>\n",
       "    <tr style=\"text-align: right;\">\n",
       "      <th></th>\n",
       "      <th>Open</th>\n",
       "      <th>High</th>\n",
       "      <th>Low</th>\n",
       "      <th>Close</th>\n",
       "      <th>Adj Close</th>\n",
       "      <th>Volume</th>\n",
       "    </tr>\n",
       "    <tr>\n",
       "      <th>Date</th>\n",
       "      <th></th>\n",
       "      <th></th>\n",
       "      <th></th>\n",
       "      <th></th>\n",
       "      <th></th>\n",
       "      <th></th>\n",
       "    </tr>\n",
       "  </thead>\n",
       "  <tbody>\n",
       "    <tr>\n",
       "      <th>2014-09-17</th>\n",
       "      <td>465.864014</td>\n",
       "      <td>468.174011</td>\n",
       "      <td>452.421997</td>\n",
       "      <td>457.334015</td>\n",
       "      <td>457.334015</td>\n",
       "      <td>21056800</td>\n",
       "    </tr>\n",
       "    <tr>\n",
       "      <th>2014-09-18</th>\n",
       "      <td>456.859985</td>\n",
       "      <td>456.859985</td>\n",
       "      <td>413.104004</td>\n",
       "      <td>424.440002</td>\n",
       "      <td>424.440002</td>\n",
       "      <td>34483200</td>\n",
       "    </tr>\n",
       "    <tr>\n",
       "      <th>2014-09-19</th>\n",
       "      <td>424.102997</td>\n",
       "      <td>427.834991</td>\n",
       "      <td>384.532013</td>\n",
       "      <td>394.795990</td>\n",
       "      <td>394.795990</td>\n",
       "      <td>37919700</td>\n",
       "    </tr>\n",
       "    <tr>\n",
       "      <th>2014-09-20</th>\n",
       "      <td>394.673004</td>\n",
       "      <td>423.295990</td>\n",
       "      <td>389.882996</td>\n",
       "      <td>408.903992</td>\n",
       "      <td>408.903992</td>\n",
       "      <td>36863600</td>\n",
       "    </tr>\n",
       "    <tr>\n",
       "      <th>2014-09-21</th>\n",
       "      <td>408.084991</td>\n",
       "      <td>412.425995</td>\n",
       "      <td>393.181000</td>\n",
       "      <td>398.821014</td>\n",
       "      <td>398.821014</td>\n",
       "      <td>26580100</td>\n",
       "    </tr>\n",
       "    <tr>\n",
       "      <th>...</th>\n",
       "      <td>...</td>\n",
       "      <td>...</td>\n",
       "      <td>...</td>\n",
       "      <td>...</td>\n",
       "      <td>...</td>\n",
       "      <td>...</td>\n",
       "    </tr>\n",
       "    <tr>\n",
       "      <th>2021-12-26</th>\n",
       "      <td>50428.691406</td>\n",
       "      <td>51196.378906</td>\n",
       "      <td>49623.105469</td>\n",
       "      <td>50809.515625</td>\n",
       "      <td>50809.515625</td>\n",
       "      <td>20964372926</td>\n",
       "    </tr>\n",
       "    <tr>\n",
       "      <th>2021-12-27</th>\n",
       "      <td>50802.609375</td>\n",
       "      <td>51956.328125</td>\n",
       "      <td>50499.468750</td>\n",
       "      <td>50640.417969</td>\n",
       "      <td>50640.417969</td>\n",
       "      <td>24324345758</td>\n",
       "    </tr>\n",
       "    <tr>\n",
       "      <th>2021-12-28</th>\n",
       "      <td>50679.859375</td>\n",
       "      <td>50679.859375</td>\n",
       "      <td>47414.210938</td>\n",
       "      <td>47588.855469</td>\n",
       "      <td>47588.855469</td>\n",
       "      <td>33430376883</td>\n",
       "    </tr>\n",
       "    <tr>\n",
       "      <th>2021-12-29</th>\n",
       "      <td>47623.871094</td>\n",
       "      <td>48119.742188</td>\n",
       "      <td>46201.496094</td>\n",
       "      <td>46444.710938</td>\n",
       "      <td>46444.710938</td>\n",
       "      <td>30049226299</td>\n",
       "    </tr>\n",
       "    <tr>\n",
       "      <th>2021-12-30</th>\n",
       "      <td>46490.605469</td>\n",
       "      <td>47879.964844</td>\n",
       "      <td>46060.312500</td>\n",
       "      <td>47178.125000</td>\n",
       "      <td>47178.125000</td>\n",
       "      <td>26686491018</td>\n",
       "    </tr>\n",
       "  </tbody>\n",
       "</table>\n",
       "<p>2662 rows × 6 columns</p>\n",
       "</div>"
      ],
      "text/plain": [
       "                    Open          High           Low         Close  \\\n",
       "Date                                                                 \n",
       "2014-09-17    465.864014    468.174011    452.421997    457.334015   \n",
       "2014-09-18    456.859985    456.859985    413.104004    424.440002   \n",
       "2014-09-19    424.102997    427.834991    384.532013    394.795990   \n",
       "2014-09-20    394.673004    423.295990    389.882996    408.903992   \n",
       "2014-09-21    408.084991    412.425995    393.181000    398.821014   \n",
       "...                  ...           ...           ...           ...   \n",
       "2021-12-26  50428.691406  51196.378906  49623.105469  50809.515625   \n",
       "2021-12-27  50802.609375  51956.328125  50499.468750  50640.417969   \n",
       "2021-12-28  50679.859375  50679.859375  47414.210938  47588.855469   \n",
       "2021-12-29  47623.871094  48119.742188  46201.496094  46444.710938   \n",
       "2021-12-30  46490.605469  47879.964844  46060.312500  47178.125000   \n",
       "\n",
       "               Adj Close       Volume  \n",
       "Date                                   \n",
       "2014-09-17    457.334015     21056800  \n",
       "2014-09-18    424.440002     34483200  \n",
       "2014-09-19    394.795990     37919700  \n",
       "2014-09-20    408.903992     36863600  \n",
       "2014-09-21    398.821014     26580100  \n",
       "...                  ...          ...  \n",
       "2021-12-26  50809.515625  20964372926  \n",
       "2021-12-27  50640.417969  24324345758  \n",
       "2021-12-28  47588.855469  33430376883  \n",
       "2021-12-29  46444.710938  30049226299  \n",
       "2021-12-30  47178.125000  26686491018  \n",
       "\n",
       "[2662 rows x 6 columns]"
      ]
     },
     "execution_count": 28,
     "metadata": {},
     "output_type": "execute_result"
    }
   ],
   "source": [
    "#Show the Data\n",
    "BTC_df"
   ]
  },
  {
   "cell_type": "code",
   "execution_count": 29,
   "metadata": {},
   "outputs": [
    {
     "data": {
      "text/plain": [
       "(2662, 6)"
      ]
     },
     "execution_count": 29,
     "metadata": {},
     "output_type": "execute_result"
    }
   ],
   "source": [
    "#Get the number of rows and columns in the data set\n",
    "BTC_df.shape"
   ]
  },
  {
   "cell_type": "code",
   "execution_count": 30,
   "metadata": {},
   "outputs": [
    {
     "data": {
      "image/png": "[encoded data removed]",
      "text/plain": [
       "<Figure size 1152x576 with 1 Axes>"
      ]
     },
     "metadata": {
      "needs_background": "light"
     },
     "output_type": "display_data"
    }
   ],
   "source": [
    "#Visualize the closing price history\n",
    "plt.figure(figsize=(16,8))\n",
    "plt.title('Bitcoin Close Price History')\n",
    "plt.plot(BTC_df['Close'])\n",
    "plt.xlabel('Date',fontsize=18)\n",
    "plt.ylabel('Close Price USD ($)',fontsize=18)\n",
    "plt.show()"
   ]
  },
  {
   "cell_type": "code",
   "execution_count": 31,
   "metadata": {},
   "outputs": [
    {
     "data": {
      "text/plain": [
       "2129"
      ]
     },
     "execution_count": 31,
     "metadata": {},
     "output_type": "execute_result"
    }
   ],
   "source": [
    "\n",
    "#Create a new dataframe with only the Close column\n",
    "BTC_data = BTC_df[['Close']]\n",
    "\n",
    "#Convert dataFrame to a numpy array\n",
    "BTC_dataset = BTC_data.values\n",
    "\n",
    "#Get the number of rows to train the model on \n",
    "Btraining_data_len =int(0.8*len(BTC_dataset))\n",
    "Btraining_data_len"
   ]
  },
  {
   "cell_type": "code",
   "execution_count": 32,
   "metadata": {},
   "outputs": [
    {
     "data": {
      "text/plain": [
       "array([[0.00414359],\n",
       "       [0.00365546],\n",
       "       [0.00321557],\n",
       "       ...,\n",
       "       [0.70354132],\n",
       "       [0.68656304],\n",
       "       [0.69744637]])"
      ]
     },
     "execution_count": 32,
     "metadata": {},
     "output_type": "execute_result"
    }
   ],
   "source": [
    "#Scale the data(transform the data between 0 and 1)\n",
    "BTC_scaler=MinMaxScaler(feature_range=(0,1))\n",
    "BTC_scaled_data =BTC_scaler.fit_transform(BTC_dataset)\n",
    "BTC_scaled_data"
   ]
  },
  {
   "cell_type": "code",
   "execution_count": 33,
   "metadata": {},
   "outputs": [
    {
     "name": "stdout",
     "output_type": "stream",
     "text": [
      "[array([0.00414359, 0.00365546, 0.00321557, 0.00342492, 0.0032753 ,\n",
      "       0.00332473, 0.0038239 , 0.00363714, 0.00346454, 0.00335845,\n",
      "       0.00328567, 0.00295417, 0.00292874, 0.00309905, 0.00304965,\n",
      "       0.00292288, 0.00269198, 0.00223721, 0.00211322, 0.00225521,\n",
      "       0.00234585, 0.00259445, 0.0027738 , 0.0027224 , 0.00273334,\n",
      "       0.00297447, 0.00315054, 0.0033057 , 0.00321523, 0.00303393,\n",
      "       0.00305177, 0.0031658 , 0.00313766, 0.00303822, 0.00309209,\n",
      "       0.00304287, 0.00267573, 0.00267466, 0.00251033, 0.00262063,\n",
      "       0.00259518, 0.00266387, 0.00233701, 0.00248116, 0.00237752,\n",
      "       0.00219096, 0.00219308, 0.00221774, 0.00226134, 0.00239481,\n",
      "       0.00254029, 0.00243827, 0.00248387, 0.00274766, 0.00280197,\n",
      "       0.00281341, 0.00364242, 0.00360048, 0.00326041, 0.00293862])]\n",
      "[0.0031129686946921404]\n",
      "\n"
     ]
    }
   ],
   "source": [
    "#Create the training data set \n",
    "#Create the scaled training data set\n",
    "BTC_train_data=BTC_scaled_data[0:Btraining_data_len,:]\n",
    "#train_data\n",
    "#Split the data into x_train and y_train data set\n",
    "x_train_B=[]\n",
    "y_train_B=[]\n",
    "\n",
    "\n",
    "for i in range(60,len(BTC_train_data)):\n",
    "    x_train_B.append(BTC_train_data[i-60:i,0])\n",
    "    y_train_B.append(BTC_train_data[i,0])\n",
    "    if i <=60:\n",
    "        print(x_train_B)\n",
    "        print(y_train_B)\n",
    "        print()"
   ]
  },
  {
   "cell_type": "code",
   "execution_count": 34,
   "metadata": {},
   "outputs": [],
   "source": [
    "#Convert the x_train and y_train to numpy arrays\n",
    "x_train_B, y_train_B=np.array(x_train_B),np.array(y_train_B)"
   ]
  },
  {
   "cell_type": "code",
   "execution_count": 35,
   "metadata": {},
   "outputs": [
    {
     "data": {
      "text/plain": [
       "(2069, 60, 1)"
      ]
     },
     "execution_count": 35,
     "metadata": {},
     "output_type": "execute_result"
    }
   ],
   "source": [
    "#Reshape the data(shape become 3 dimensional)\n",
    "x_train_B=np.reshape(x_train_B,(x_train_B.shape[0],x_train_B.shape[1],1))\n",
    "x_train_B.shape"
   ]
  },
  {
   "cell_type": "code",
   "execution_count": 36,
   "metadata": {},
   "outputs": [],
   "source": [
    "#Bulid the LSTM model\n",
    "BTC_model=Sequential()\n",
    "#add the layer to the model\n",
    "BTC_model.add(LSTM(50,return_sequences=True,input_shape=(x_train_B.shape[1],1)))\n",
    "BTC_model.add(LSTM(50,return_sequences=False))\n",
    "BTC_model.add(Dense(25))\n",
    "BTC_model.add(Dense(1))"
   ]
  },
  {
   "cell_type": "code",
   "execution_count": 37,
   "metadata": {},
   "outputs": [],
   "source": [
    "#Compile the model\n",
    "BTC_model.compile(optimizer='adam',loss='mean_squared_error')"
   ]
  },
  {
   "cell_type": "code",
   "execution_count": 38,
   "metadata": {},
   "outputs": [
    {
     "name": "stdout",
     "output_type": "stream",
     "text": [
      "2069/2069 [==============================] - 91s 42ms/step - loss: 1.6899e-04\n"
     ]
    },
    {
     "data": {
      "text/plain": [
       "<keras.callbacks.History at 0x158d88f10>"
      ]
     },
     "execution_count": 38,
     "metadata": {},
     "output_type": "execute_result"
    }
   ],
   "source": [
    "#Train the model\n",
    "BTC_model.fit(x_train_B,y_train_B,batch_size=1,epochs=1)"
   ]
  },
  {
   "cell_type": "code",
   "execution_count": 39,
   "metadata": {},
   "outputs": [
    {
     "name": "stderr",
     "output_type": "stream",
     "text": [
      "WARNING:absl:Found untraced functions such as lstm_cell_4_layer_call_fn, lstm_cell_4_layer_call_and_return_conditional_losses, lstm_cell_5_layer_call_fn, lstm_cell_5_layer_call_and_return_conditional_losses, lstm_cell_4_layer_call_fn while saving (showing 5 of 10). These functions will not be directly callable after loading.\n"
     ]
    },
    {
     "name": "stdout",
     "output_type": "stream",
     "text": [
      "INFO:tensorflow:Assets written to: Saved_LSTM_Model_BTC/assets\n"
     ]
    },
    {
     "name": "stderr",
     "output_type": "stream",
     "text": [
      "INFO:tensorflow:Assets written to: Saved_LSTM_Model_BTC/assets\n"
     ]
    }
   ],
   "source": [
    "BTC_model.save(\"Saved_LSTM_Model_BTC\")"
   ]
  },
  {
   "cell_type": "code",
   "execution_count": 42,
   "metadata": {},
   "outputs": [],
   "source": [
    "from tensorflow import keras\n",
    "BTC_model = keras.models.load_model(\"Saved_LSTM_Model_BTC\")"
   ]
  },
  {
   "cell_type": "code",
   "execution_count": 43,
   "metadata": {},
   "outputs": [],
   "source": [
    "#Create the testing data set\n",
    "#Create a new array containing scaled values from index 2155 to 2769\n",
    "BTC_test_data=BTC_scaled_data[Btraining_data_len - 60: , :]\n",
    "#Create the data sets x_test and y_test\n",
    "x_test_B=[]\n",
    "y_test_B=BTC_dataset[Btraining_data_len:, :]\n",
    "\n",
    "for i in range(60,len(BTC_test_data)):\n",
    "    x_test_B.append(BTC_test_data[i-60:i,0])"
   ]
  },
  {
   "cell_type": "code",
   "execution_count": 44,
   "metadata": {},
   "outputs": [],
   "source": [
    "#Convert the data to a numpy array\n",
    "x_test_B = np.array(x_test_B)"
   ]
  },
  {
   "cell_type": "code",
   "execution_count": 45,
   "metadata": {},
   "outputs": [],
   "source": [
    "#Reshape the data(shape become 3 dimensional)\n",
    "x_test_B=np.reshape(x_test_B,(x_test_B.shape[0],x_test_B.shape[1],1))"
   ]
  },
  {
   "cell_type": "code",
   "execution_count": 46,
   "metadata": {},
   "outputs": [],
   "source": [
    "#Get the models predicted price values\n",
    "BTC_predictions =BTC_model.predict(x_test_B)\n",
    "BTC_predictions =BTC_scaler.inverse_transform(BTC_predictions)"
   ]
  },
  {
   "cell_type": "code",
   "execution_count": 47,
   "metadata": {},
   "outputs": [
    {
     "data": {
      "text/plain": [
       "4400.026405663696"
      ]
     },
     "execution_count": 47,
     "metadata": {},
     "output_type": "execute_result"
    }
   ],
   "source": [
    "#Get the root mean squared error(RMSE)\n",
    "BTC_rese= np.sqrt(np.mean(BTC_predictions - y_test_B)**2)\n",
    "BTC_rese"
   ]
  },
  {
   "cell_type": "code",
   "execution_count": 48,
   "metadata": {},
   "outputs": [
    {
     "name": "stderr",
     "output_type": "stream",
     "text": [
      "/var/folders/kq/z9bqrgmn3kn0h8vj6sy1cjvc0000gn/T/ipykernel_1746/3369838837.py:4: SettingWithCopyWarning: \n",
      "A value is trying to be set on a copy of a slice from a DataFrame.\n",
      "Try using .loc[row_indexer,col_indexer] = value instead\n",
      "\n",
      "See the caveats in the documentation: https://pandas.pydata.org/pandas-docs/stable/user_guide/indexing.html#returning-a-view-versus-a-copy\n",
      "  BTC_valid['predictions'] =BTC_predictions\n"
     ]
    },
    {
     "data": {
      "image/png": "[encoded data removed]",
      "text/plain": [
       "<Figure size 1152x576 with 1 Axes>"
      ]
     },
     "metadata": {
      "needs_background": "light"
     },
     "output_type": "display_data"
    }
   ],
   "source": [
    "#Plot the data\n",
    "BTC_train=BTC_data[:Btraining_data_len]\n",
    "BTC_valid=BTC_data[Btraining_data_len:]\n",
    "BTC_valid['predictions'] =BTC_predictions\n",
    "\n",
    "#Visualize the data\n",
    "plt.figure(figsize=(16,8))\n",
    "plt.title('Test LSTM Model (Bitcoin Data)')\n",
    "plt.xlabel('Date',fontsize=18)\n",
    "plt.ylabel('Close Price USD($)',fontsize=18)\n",
    "plt.plot(BTC_train['Close'])\n",
    "plt.plot(BTC_valid[['Close','predictions']])\n",
    "plt.legend(['Train','Val','predictions'],loc='lower right')\n",
    "plt.show()"
   ]
  },
  {
   "cell_type": "code",
   "execution_count": 49,
   "metadata": {},
   "outputs": [
    {
     "data": {
      "text/html": [
       "<div>\n",
       "<style scoped>\n",
       "    .dataframe tbody tr th:only-of-type {\n",
       "        vertical-align: middle;\n",
       "    }\n",
       "\n",
       "    .dataframe tbody tr th {\n",
       "        vertical-align: top;\n",
       "    }\n",
       "\n",
       "    .dataframe thead th {\n",
       "        text-align: right;\n",
       "    }\n",
       "</style>\n",
       "<table border=\"1\" class=\"dataframe\">\n",
       "  <thead>\n",
       "    <tr style=\"text-align: right;\">\n",
       "      <th></th>\n",
       "      <th>Close</th>\n",
       "      <th>predictions</th>\n",
       "    </tr>\n",
       "    <tr>\n",
       "      <th>Date</th>\n",
       "      <th></th>\n",
       "      <th></th>\n",
       "    </tr>\n",
       "  </thead>\n",
       "  <tbody>\n",
       "    <tr>\n",
       "      <th>2020-07-16</th>\n",
       "      <td>9132.227539</td>\n",
       "      <td>9300.662109</td>\n",
       "    </tr>\n",
       "    <tr>\n",
       "      <th>2020-07-17</th>\n",
       "      <td>9151.392578</td>\n",
       "      <td>9269.939453</td>\n",
       "    </tr>\n",
       "    <tr>\n",
       "      <th>2020-07-18</th>\n",
       "      <td>9159.040039</td>\n",
       "      <td>9244.446289</td>\n",
       "    </tr>\n",
       "    <tr>\n",
       "      <th>2020-07-19</th>\n",
       "      <td>9185.817383</td>\n",
       "      <td>9227.757812</td>\n",
       "    </tr>\n",
       "    <tr>\n",
       "      <th>2020-07-20</th>\n",
       "      <td>9164.231445</td>\n",
       "      <td>9223.479492</td>\n",
       "    </tr>\n",
       "    <tr>\n",
       "      <th>...</th>\n",
       "      <td>...</td>\n",
       "      <td>...</td>\n",
       "    </tr>\n",
       "    <tr>\n",
       "      <th>2021-12-26</th>\n",
       "      <td>50809.515625</td>\n",
       "      <td>43945.730469</td>\n",
       "    </tr>\n",
       "    <tr>\n",
       "      <th>2021-12-27</th>\n",
       "      <td>50640.417969</td>\n",
       "      <td>44259.871094</td>\n",
       "    </tr>\n",
       "    <tr>\n",
       "      <th>2021-12-28</th>\n",
       "      <td>47588.855469</td>\n",
       "      <td>44377.695312</td>\n",
       "    </tr>\n",
       "    <tr>\n",
       "      <th>2021-12-29</th>\n",
       "      <td>46444.710938</td>\n",
       "      <td>43721.585938</td>\n",
       "    </tr>\n",
       "    <tr>\n",
       "      <th>2021-12-30</th>\n",
       "      <td>47178.125000</td>\n",
       "      <td>42685.242188</td>\n",
       "    </tr>\n",
       "  </tbody>\n",
       "</table>\n",
       "<p>533 rows × 2 columns</p>\n",
       "</div>"
      ],
      "text/plain": [
       "                   Close   predictions\n",
       "Date                                  \n",
       "2020-07-16   9132.227539   9300.662109\n",
       "2020-07-17   9151.392578   9269.939453\n",
       "2020-07-18   9159.040039   9244.446289\n",
       "2020-07-19   9185.817383   9227.757812\n",
       "2020-07-20   9164.231445   9223.479492\n",
       "...                  ...           ...\n",
       "2021-12-26  50809.515625  43945.730469\n",
       "2021-12-27  50640.417969  44259.871094\n",
       "2021-12-28  47588.855469  44377.695312\n",
       "2021-12-29  46444.710938  43721.585938\n",
       "2021-12-30  47178.125000  42685.242188\n",
       "\n",
       "[533 rows x 2 columns]"
      ]
     },
     "execution_count": 49,
     "metadata": {},
     "output_type": "execute_result"
    }
   ],
   "source": [
    "#Show the valid (actual) and predicted prices\n",
    "BTC_valid"
   ]
  },
  {
   "cell_type": "markdown",
   "metadata": {},
   "source": [
    "# Predicted Cryptocurrince for Bitcoin (for a specific day)"
   ]
  },
  {
   "cell_type": "code",
   "execution_count": 50,
   "metadata": {},
   "outputs": [
    {
     "name": "stdout",
     "output_type": "stream",
     "text": [
      "[*********************100%***********************]  1 of 1 completed\n",
      "[[47028.98]]\n"
     ]
    }
   ],
   "source": [
    "#BTC\n",
    "#predicted the close price for this date 2022-01-04\n",
    "#Get the qoute\n",
    "BTC_quote=pdr.get_data_yahoo('BTC-USD','2011-01-01','2022-01-04')\n",
    "#Create a new dataframe\n",
    "BTCnew_df=BTC_quote[['Close']]\n",
    "#Get last 60 day closing price values and convert the dataframe to an array\n",
    "Blast_60_days= BTCnew_df[-60:].values\n",
    "#Scale the data to be values between 0 and 1\n",
    "Blast_60_days_scaled=BTC_scaler.fit_transform(Blast_60_days)\n",
    "#Create empty list\n",
    "X_test_B=[]\n",
    "#Append past 60 days\n",
    "X_test_B.append(Blast_60_days_scaled)\n",
    "#Convert the X_test to numpy array\n",
    "X_test_B=np.array(X_test_B)\n",
    "#Reshape the data(shape become 3 dimensional)\n",
    "X_test_B=np.reshape(X_test_B,(X_test_B.shape[0],X_test_B.shape[1],1))\n",
    "#Get the predicted scaled price\n",
    "BTC_pred_price =BTC_model.predict(X_test_B)\n",
    "#undo the scaling\n",
    "BTC_pred_price =BTC_scaler.inverse_transform(BTC_pred_price)\n",
    "print(BTC_pred_price)"
   ]
  },
  {
   "cell_type": "code",
   "execution_count": 51,
   "metadata": {},
   "outputs": [
    {
     "name": "stdout",
     "output_type": "stream",
     "text": [
      "[*********************100%***********************]  1 of 1 completed\n",
      "Date\n",
      "2022-01-04    45897.574219\n",
      "Name: Close, dtype: float64\n"
     ]
    }
   ],
   "source": [
    "#Get the real price for this date 2022-01-04\n",
    "BTC_quote2=pdr.get_data_yahoo('BTC-USD','2022-01-05','2022-01-05')\n",
    "print(BTC_quote2['Close'])"
   ]
  },
  {
   "cell_type": "markdown",
   "metadata": {
    "tags": []
   },
   "source": [
    "# Part 2:Predict Future Price"
   ]
  },
  {
   "cell_type": "markdown",
   "metadata": {},
   "source": [
    "# Predicted for Stock Market in The Future (Apple)"
   ]
  },
  {
   "cell_type": "code",
   "execution_count": 52,
   "metadata": {},
   "outputs": [],
   "source": [
    "Fut_App_projection=30\n",
    "FutA_df=Apple_df.copy()\n",
    "FutA_df['Projection']= FutA_df[['Close']].shift(-Fut_App_projection)\n"
   ]
  },
  {
   "cell_type": "code",
   "execution_count": 87,
   "metadata": {},
   "outputs": [
    {
     "name": "stdout",
     "output_type": "stream",
     "text": [
      "[[ 11.52000046]\n",
      " [ 11.77035713]\n",
      " [ 11.83178616]\n",
      " ...\n",
      " [149.99000549]\n",
      " [150.        ]\n",
      " [151.        ]]\n"
     ]
    },
    {
     "data": {
      "text/html": [
       "<div>\n",
       "<style scoped>\n",
       "    .dataframe tbody tr th:only-of-type {\n",
       "        vertical-align: middle;\n",
       "    }\n",
       "\n",
       "    .dataframe tbody tr th {\n",
       "        vertical-align: top;\n",
       "    }\n",
       "\n",
       "    .dataframe thead th {\n",
       "        text-align: right;\n",
       "    }\n",
       "</style>\n",
       "<table border=\"1\" class=\"dataframe\">\n",
       "  <thead>\n",
       "    <tr style=\"text-align: right;\">\n",
       "      <th></th>\n",
       "      <th>Open</th>\n",
       "      <th>High</th>\n",
       "      <th>Low</th>\n",
       "      <th>Close</th>\n",
       "      <th>Adj Close</th>\n",
       "      <th>Volume</th>\n",
       "      <th>Projection</th>\n",
       "    </tr>\n",
       "    <tr>\n",
       "      <th>Date</th>\n",
       "      <th></th>\n",
       "      <th></th>\n",
       "      <th></th>\n",
       "      <th></th>\n",
       "      <th></th>\n",
       "      <th></th>\n",
       "      <th></th>\n",
       "    </tr>\n",
       "  </thead>\n",
       "  <tbody>\n",
       "    <tr>\n",
       "      <th>2010-12-31</th>\n",
       "      <td>11.533929</td>\n",
       "      <td>11.552857</td>\n",
       "      <td>11.475357</td>\n",
       "      <td>11.520000</td>\n",
       "      <td>9.876846</td>\n",
       "      <td>193508000</td>\n",
       "      <td>12.827857</td>\n",
       "    </tr>\n",
       "    <tr>\n",
       "      <th>2011-01-03</th>\n",
       "      <td>11.630000</td>\n",
       "      <td>11.795000</td>\n",
       "      <td>11.601429</td>\n",
       "      <td>11.770357</td>\n",
       "      <td>10.091494</td>\n",
       "      <td>445138400</td>\n",
       "      <td>12.853571</td>\n",
       "    </tr>\n",
       "    <tr>\n",
       "      <th>2011-01-04</th>\n",
       "      <td>11.872857</td>\n",
       "      <td>11.875000</td>\n",
       "      <td>11.719643</td>\n",
       "      <td>11.831786</td>\n",
       "      <td>10.144160</td>\n",
       "      <td>309080800</td>\n",
       "      <td>12.968929</td>\n",
       "    </tr>\n",
       "    <tr>\n",
       "      <th>2011-01-05</th>\n",
       "      <td>11.769643</td>\n",
       "      <td>11.940714</td>\n",
       "      <td>11.767857</td>\n",
       "      <td>11.928571</td>\n",
       "      <td>10.227140</td>\n",
       "      <td>255519600</td>\n",
       "      <td>12.796429</td>\n",
       "    </tr>\n",
       "    <tr>\n",
       "      <th>2011-01-06</th>\n",
       "      <td>11.954286</td>\n",
       "      <td>11.973214</td>\n",
       "      <td>11.889286</td>\n",
       "      <td>11.918929</td>\n",
       "      <td>10.218874</td>\n",
       "      <td>300428800</td>\n",
       "      <td>12.520000</td>\n",
       "    </tr>\n",
       "    <tr>\n",
       "      <th>...</th>\n",
       "      <td>...</td>\n",
       "      <td>...</td>\n",
       "      <td>...</td>\n",
       "      <td>...</td>\n",
       "      <td>...</td>\n",
       "      <td>...</td>\n",
       "      <td>...</td>\n",
       "    </tr>\n",
       "    <tr>\n",
       "      <th>2021-12-23</th>\n",
       "      <td>175.850006</td>\n",
       "      <td>176.850006</td>\n",
       "      <td>175.270004</td>\n",
       "      <td>176.279999</td>\n",
       "      <td>176.279999</td>\n",
       "      <td>68356600</td>\n",
       "      <td>NaN</td>\n",
       "    </tr>\n",
       "    <tr>\n",
       "      <th>2021-12-27</th>\n",
       "      <td>177.089996</td>\n",
       "      <td>180.419998</td>\n",
       "      <td>177.070007</td>\n",
       "      <td>180.330002</td>\n",
       "      <td>180.330002</td>\n",
       "      <td>74919600</td>\n",
       "      <td>NaN</td>\n",
       "    </tr>\n",
       "    <tr>\n",
       "      <th>2021-12-28</th>\n",
       "      <td>180.160004</td>\n",
       "      <td>181.330002</td>\n",
       "      <td>178.529999</td>\n",
       "      <td>179.289993</td>\n",
       "      <td>179.289993</td>\n",
       "      <td>79144300</td>\n",
       "      <td>NaN</td>\n",
       "    </tr>\n",
       "    <tr>\n",
       "      <th>2021-12-29</th>\n",
       "      <td>179.330002</td>\n",
       "      <td>180.630005</td>\n",
       "      <td>178.139999</td>\n",
       "      <td>179.380005</td>\n",
       "      <td>179.380005</td>\n",
       "      <td>62348900</td>\n",
       "      <td>NaN</td>\n",
       "    </tr>\n",
       "    <tr>\n",
       "      <th>2021-12-30</th>\n",
       "      <td>179.470001</td>\n",
       "      <td>180.570007</td>\n",
       "      <td>178.089996</td>\n",
       "      <td>178.199997</td>\n",
       "      <td>178.199997</td>\n",
       "      <td>59773000</td>\n",
       "      <td>NaN</td>\n",
       "    </tr>\n",
       "  </tbody>\n",
       "</table>\n",
       "<p>2769 rows × 7 columns</p>\n",
       "</div>"
      ],
      "text/plain": [
       "                  Open        High         Low       Close   Adj Close  \\\n",
       "Date                                                                     \n",
       "2010-12-31   11.533929   11.552857   11.475357   11.520000    9.876846   \n",
       "2011-01-03   11.630000   11.795000   11.601429   11.770357   10.091494   \n",
       "2011-01-04   11.872857   11.875000   11.719643   11.831786   10.144160   \n",
       "2011-01-05   11.769643   11.940714   11.767857   11.928571   10.227140   \n",
       "2011-01-06   11.954286   11.973214   11.889286   11.918929   10.218874   \n",
       "...                ...         ...         ...         ...         ...   \n",
       "2021-12-23  175.850006  176.850006  175.270004  176.279999  176.279999   \n",
       "2021-12-27  177.089996  180.419998  177.070007  180.330002  180.330002   \n",
       "2021-12-28  180.160004  181.330002  178.529999  179.289993  179.289993   \n",
       "2021-12-29  179.330002  180.630005  178.139999  179.380005  179.380005   \n",
       "2021-12-30  179.470001  180.570007  178.089996  178.199997  178.199997   \n",
       "\n",
       "               Volume  Projection  \n",
       "Date                               \n",
       "2010-12-31  193508000   12.827857  \n",
       "2011-01-03  445138400   12.853571  \n",
       "2011-01-04  309080800   12.968929  \n",
       "2011-01-05  255519600   12.796429  \n",
       "2011-01-06  300428800   12.520000  \n",
       "...               ...         ...  \n",
       "2021-12-23   68356600         NaN  \n",
       "2021-12-27   74919600         NaN  \n",
       "2021-12-28   79144300         NaN  \n",
       "2021-12-29   62348900         NaN  \n",
       "2021-12-30   59773000         NaN  \n",
       "\n",
       "[2769 rows x 7 columns]"
      ]
     },
     "execution_count": 87,
     "metadata": {},
     "output_type": "execute_result"
    }
   ],
   "source": [
    "X_apple=np.array(FutA_df[['Close']])\n",
    "X_apple=X_apple[:-Fut_App_projection]\n",
    "print(X_apple)\n",
    "FutA_df\n"
   ]
  },
  {
   "cell_type": "code",
   "execution_count": 54,
   "metadata": {},
   "outputs": [
    {
     "name": "stdout",
     "output_type": "stream",
     "text": [
      "[ 12.82785702  12.85357094  12.96892929 ... 179.28999329 179.38000488\n",
      " 178.19999695]\n"
     ]
    }
   ],
   "source": [
    "y_apple=FutA_df['Projection'].values\n",
    "y_apple=y_apple[:-Fut_App_projection]\n",
    "print(y_apple)\n"
   ]
  },
  {
   "cell_type": "code",
   "execution_count": 55,
   "metadata": {},
   "outputs": [],
   "source": [
    "x_train_pA,x_test_pA,y_train_pA,y_test_pA = train_test_split(X_apple,y_apple,test_size=.15)\n"
   ]
  },
  {
   "cell_type": "code",
   "execution_count": 65,
   "metadata": {},
   "outputs": [
    {
     "name": "stdout",
     "output_type": "stream",
     "text": [
      "2328\n"
     ]
    }
   ],
   "source": [
    "print(str(len(x_train_pA)))\n",
    "    "
   ]
  },
  {
   "cell_type": "code",
   "execution_count": 66,
   "metadata": {},
   "outputs": [
    {
     "name": "stdout",
     "output_type": "stream",
     "text": [
      "2328\n"
     ]
    }
   ],
   "source": [
    "print(str(len(y_train_pA)))    "
   ]
  },
  {
   "cell_type": "markdown",
   "metadata": {},
   "source": [
    "# Future Prediction Using Linear Model (Apple)"
   ]
  },
  {
   "cell_type": "code",
   "execution_count": 56,
   "metadata": {},
   "outputs": [
    {
     "data": {
      "text/plain": [
       "LinearRegression()"
      ]
     },
     "execution_count": 56,
     "metadata": {},
     "output_type": "execute_result"
    }
   ],
   "source": [
    "linReg_apple = LinearRegression()\n",
    "linReg_apple.fit(x_train_pA, y_train_pA)\n",
    "\n",
    "LinearRegression(copy_X=True,fit_intercept=True, n_jobs=None,normalize=False)\n"
   ]
  },
  {
   "cell_type": "code",
   "execution_count": 57,
   "metadata": {},
   "outputs": [
    {
     "name": "stdout",
     "output_type": "stream",
     "text": [
      "0.9770796128044464\n"
     ]
    }
   ],
   "source": [
    "Apple_model_confidence=linReg_apple.score(x_test_pA, y_test_pA)\n",
    "print(Apple_model_confidence)\n"
   ]
  },
  {
   "cell_type": "code",
   "execution_count": 58,
   "metadata": {},
   "outputs": [
    {
     "name": "stdout",
     "output_type": "stream",
     "text": [
      "[[153.49000549]\n",
      " [157.86999512]\n",
      " [160.55000305]\n",
      " [161.02000427]\n",
      " [161.41000366]\n",
      " [161.94000244]\n",
      " [156.80999756]\n",
      " [160.24000549]\n",
      " [165.30000305]\n",
      " [164.77000427]\n",
      " [163.75999451]\n",
      " [161.83999634]\n",
      " [165.32000732]\n",
      " [171.17999268]\n",
      " [175.08000183]\n",
      " [174.55999756]\n",
      " [179.44999695]\n",
      " [175.74000549]\n",
      " [174.33000183]\n",
      " [179.30000305]\n",
      " [172.25999451]\n",
      " [171.13999939]\n",
      " [169.75      ]\n",
      " [172.99000549]\n",
      " [175.63999939]\n",
      " [176.27999878]\n",
      " [180.33000183]\n",
      " [179.28999329]\n",
      " [179.38000488]\n",
      " [178.19999695]]\n"
     ]
    }
   ],
   "source": [
    "x_projection_apple=np.array(FutA_df[['Close']])[-Fut_App_projection:]\n",
    "print(x_projection_apple)\n"
   ]
  },
  {
   "cell_type": "code",
   "execution_count": 59,
   "metadata": {},
   "outputs": [
    {
     "name": "stdout",
     "output_type": "stream",
     "text": [
      "[160.42300689 165.01147623 167.81904778 168.31142022 168.71998289\n",
      " 169.27520867 163.90102468 167.49429489 172.79513934 172.23991356\n",
      " 171.18182912 169.17044245 172.81609578 178.95500601 183.04064867\n",
      " 182.49589312 187.61864779 183.73206733 182.25495    187.46151445\n",
      " 180.08641401 178.91310912 177.45694823 180.85117222 183.62730112\n",
      " 184.29776334 188.54053934 187.45102823 187.54532422 186.30915001]\n"
     ]
    }
   ],
   "source": [
    "linReg_prodection_apple=linReg_apple.predict(x_projection_apple)\n",
    "print(linReg_prodection_apple)"
   ]
  },
  {
   "cell_type": "code",
   "execution_count": 60,
   "metadata": {},
   "outputs": [
    {
     "data": {
      "image/png": "[encoded data removed]",
      "text/plain": [
       "<Figure size 1152x576 with 1 Axes>"
      ]
     },
     "metadata": {
      "needs_background": "light"
     },
     "output_type": "display_data"
    }
   ],
   "source": [
    "plt.figure(figsize=(16,8))\n",
    "plt.title('Predicted for Apple Market in The Future using Linear Model')\n",
    "plt.xlabel('Date',fontsize=18)\n",
    "plt.ylabel('Close Price USD($)',fontsize=18)\n",
    "plt.plot(linReg_prodection_apple)\n",
    "plt.legend(['predictions for next 30 days'],loc='lower right')\n",
    "plt.show()\n"
   ]
  },
  {
   "cell_type": "markdown",
   "metadata": {},
   "source": [
    "# Future Prediction Using LSTM Model (Apple)"
   ]
  },
  {
   "cell_type": "code",
   "execution_count": 86,
   "metadata": {
    "tags": []
   },
   "outputs": [
    {
     "name": "stdout",
     "output_type": "stream",
     "text": [
      "411\n"
     ]
    },
    {
     "ename": "IndexError",
     "evalue": "tuple index out of range",
     "output_type": "error",
     "traceback": [
      "\u001b[0;31m---------------------------------------------------------------------------\u001b[0m",
      "\u001b[0;31mIndexError\u001b[0m                                Traceback (most recent call last)",
      "\u001b[0;32m/var/folders/kq/z9bqrgmn3kn0h8vj6sy1cjvc0000gn/T/ipykernel_1746/747199104.py\u001b[0m in \u001b[0;36m<module>\u001b[0;34m\u001b[0m\n\u001b[1;32m     11\u001b[0m \u001b[0;31m#x_test_pA=np.reshape(x_test_pA,(x_test_pA.shape[0],x_test_pA.shape[1],1))\u001b[0m\u001b[0;34m\u001b[0m\u001b[0;34m\u001b[0m\u001b[0m\n\u001b[1;32m     12\u001b[0m \u001b[0mprint\u001b[0m\u001b[0;34m(\u001b[0m\u001b[0;34m(\u001b[0m\u001b[0my_test_pA\u001b[0m\u001b[0;34m.\u001b[0m\u001b[0mshape\u001b[0m\u001b[0;34m[\u001b[0m\u001b[0;36m0\u001b[0m\u001b[0;34m]\u001b[0m\u001b[0;34m)\u001b[0m\u001b[0;34m)\u001b[0m\u001b[0;34m\u001b[0m\u001b[0;34m\u001b[0m\u001b[0m\n\u001b[0;32m---> 13\u001b[0;31m \u001b[0mprint\u001b[0m\u001b[0;34m(\u001b[0m\u001b[0;34m(\u001b[0m\u001b[0my_test_pA\u001b[0m\u001b[0;34m.\u001b[0m\u001b[0mshape\u001b[0m\u001b[0;34m[\u001b[0m\u001b[0;36m1\u001b[0m\u001b[0;34m]\u001b[0m\u001b[0;34m)\u001b[0m\u001b[0;34m)\u001b[0m\u001b[0;34m\u001b[0m\u001b[0;34m\u001b[0m\u001b[0m\n\u001b[0m\u001b[1;32m     14\u001b[0m \u001b[0my_test_pA\u001b[0m\u001b[0;34m=\u001b[0m\u001b[0mnp\u001b[0m\u001b[0;34m.\u001b[0m\u001b[0mreshape\u001b[0m\u001b[0;34m(\u001b[0m\u001b[0my_test_pA\u001b[0m\u001b[0;34m,\u001b[0m\u001b[0;34m(\u001b[0m\u001b[0my_test_pA\u001b[0m\u001b[0;34m.\u001b[0m\u001b[0mshape\u001b[0m\u001b[0;34m[\u001b[0m\u001b[0;36m0\u001b[0m\u001b[0;34m]\u001b[0m\u001b[0;34m,\u001b[0m\u001b[0my_test_pA\u001b[0m\u001b[0;34m.\u001b[0m\u001b[0mshape\u001b[0m\u001b[0;34m[\u001b[0m\u001b[0;36m1\u001b[0m\u001b[0;34m]\u001b[0m\u001b[0;34m,\u001b[0m\u001b[0;36m1\u001b[0m\u001b[0;34m)\u001b[0m\u001b[0;34m)\u001b[0m\u001b[0;34m\u001b[0m\u001b[0;34m\u001b[0m\u001b[0m\n\u001b[1;32m     15\u001b[0m \u001b[0mApple_model\u001b[0m\u001b[0;34m.\u001b[0m\u001b[0mfit\u001b[0m\u001b[0;34m(\u001b[0m\u001b[0mx_train_pA\u001b[0m\u001b[0;34m,\u001b[0m\u001b[0my_train_pA\u001b[0m\u001b[0;34m,\u001b[0m\u001b[0mbatch_size\u001b[0m\u001b[0;34m=\u001b[0m\u001b[0;36m1\u001b[0m\u001b[0;34m,\u001b[0m\u001b[0mepochs\u001b[0m\u001b[0;34m=\u001b[0m\u001b[0;36m1\u001b[0m\u001b[0;34m)\u001b[0m\u001b[0;34m\u001b[0m\u001b[0;34m\u001b[0m\u001b[0m\n",
      "\u001b[0;31mIndexError\u001b[0m: tuple index out of range"
     ]
    }
   ],
   "source": [
    "#Bulid the LSTM model\n",
    "#Apple_model2=Sequential()\n",
    "#add the layer to the model\n",
    "#Apple_model2.add(LSTM(50,return_sequences=True,input_shape=(len(x_train_pA),1)))\n",
    "#Apple_model2.add(LSTM(50,return_sequences=False))\n",
    "#Apple_model2.add(Dense(25))\n",
    "#Apple_model2.add(Dense(1))\n",
    "#\n",
    "#Apple_model2.compile(optimizer='adam',loss='mean_squared_error') \n",
    "\n",
    "#x_test_pA=np.reshape(x_test_pA,(x_test_pA.shape[0],x_test_pA.shape[1],1))\n",
    "print((y_test_pA.shape[0]))\n",
    "print((y_test_pA.shape[1]))\n",
    "y_test_pA=np.reshape(y_test_pA,(y_test_pA.shape[0],1,1))\n",
    "Apple_model.fit(x_train_pA,y_train_pA,batch_size=1,epochs=1)\n"
   ]
  },
  {
   "cell_type": "code",
   "execution_count": null,
   "metadata": {
    "tags": []
   },
   "outputs": [],
   "source": [
    "#Get the models future prediction price values\n",
    "prediction_next_30d_apple=Apple_model.predict(x_projection_apple)"
   ]
  },
  {
   "cell_type": "code",
   "execution_count": 61,
   "metadata": {},
   "outputs": [
    {
     "data": {
      "image/png": "[encoded data removed]",
      "text/plain": [
       "<Figure size 1152x576 with 1 Axes>"
      ]
     },
     "metadata": {
      "needs_background": "light"
     },
     "output_type": "display_data"
    }
   ],
   "source": [
    "plt.figure(figsize=(16,8))\n",
    "plt.title('Predicted for Apple Market in The Future using LSTM Model')\n",
    "plt.xlabel('Date',fontsize=18)\n",
    "plt.ylabel('Close Price USD($)',fontsize=18)\n",
    "plt.plot(prediction_next_30d_apple)\n",
    "plt.legend(['predictions next 30 days'],loc='lower right')\n",
    "plt.show()"
   ]
  },
  {
   "cell_type": "markdown",
   "metadata": {
    "tags": []
   },
   "source": [
    "# Predicted for Bitcoin in The Future"
   ]
  },
  {
   "cell_type": "code",
   "execution_count": 62,
   "metadata": {},
   "outputs": [
    {
     "data": {
      "text/html": [
       "<div>\n",
       "<style scoped>\n",
       "    .dataframe tbody tr th:only-of-type {\n",
       "        vertical-align: middle;\n",
       "    }\n",
       "\n",
       "    .dataframe tbody tr th {\n",
       "        vertical-align: top;\n",
       "    }\n",
       "\n",
       "    .dataframe thead th {\n",
       "        text-align: right;\n",
       "    }\n",
       "</style>\n",
       "<table border=\"1\" class=\"dataframe\">\n",
       "  <thead>\n",
       "    <tr style=\"text-align: right;\">\n",
       "      <th></th>\n",
       "      <th>Open</th>\n",
       "      <th>High</th>\n",
       "      <th>Low</th>\n",
       "      <th>Close</th>\n",
       "      <th>Adj Close</th>\n",
       "      <th>Volume</th>\n",
       "      <th>Projection</th>\n",
       "    </tr>\n",
       "    <tr>\n",
       "      <th>Date</th>\n",
       "      <th></th>\n",
       "      <th></th>\n",
       "      <th></th>\n",
       "      <th></th>\n",
       "      <th></th>\n",
       "      <th></th>\n",
       "      <th></th>\n",
       "    </tr>\n",
       "  </thead>\n",
       "  <tbody>\n",
       "    <tr>\n",
       "      <th>2014-09-17</th>\n",
       "      <td>465.864014</td>\n",
       "      <td>468.174011</td>\n",
       "      <td>452.421997</td>\n",
       "      <td>457.334015</td>\n",
       "      <td>457.334015</td>\n",
       "      <td>21056800</td>\n",
       "      <td>383.757996</td>\n",
       "    </tr>\n",
       "    <tr>\n",
       "      <th>2014-09-18</th>\n",
       "      <td>456.859985</td>\n",
       "      <td>456.859985</td>\n",
       "      <td>413.104004</td>\n",
       "      <td>424.440002</td>\n",
       "      <td>424.440002</td>\n",
       "      <td>34483200</td>\n",
       "      <td>391.441986</td>\n",
       "    </tr>\n",
       "    <tr>\n",
       "      <th>2014-09-19</th>\n",
       "      <td>424.102997</td>\n",
       "      <td>427.834991</td>\n",
       "      <td>384.532013</td>\n",
       "      <td>394.795990</td>\n",
       "      <td>394.795990</td>\n",
       "      <td>37919700</td>\n",
       "      <td>389.545990</td>\n",
       "    </tr>\n",
       "    <tr>\n",
       "      <th>2014-09-20</th>\n",
       "      <td>394.673004</td>\n",
       "      <td>423.295990</td>\n",
       "      <td>389.882996</td>\n",
       "      <td>408.903992</td>\n",
       "      <td>408.903992</td>\n",
       "      <td>36863600</td>\n",
       "      <td>382.845001</td>\n",
       "    </tr>\n",
       "    <tr>\n",
       "      <th>2014-09-21</th>\n",
       "      <td>408.084991</td>\n",
       "      <td>412.425995</td>\n",
       "      <td>393.181000</td>\n",
       "      <td>398.821014</td>\n",
       "      <td>398.821014</td>\n",
       "      <td>26580100</td>\n",
       "      <td>386.475006</td>\n",
       "    </tr>\n",
       "    <tr>\n",
       "      <th>...</th>\n",
       "      <td>...</td>\n",
       "      <td>...</td>\n",
       "      <td>...</td>\n",
       "      <td>...</td>\n",
       "      <td>...</td>\n",
       "      <td>...</td>\n",
       "      <td>...</td>\n",
       "    </tr>\n",
       "    <tr>\n",
       "      <th>2021-12-26</th>\n",
       "      <td>50428.691406</td>\n",
       "      <td>51196.378906</td>\n",
       "      <td>49623.105469</td>\n",
       "      <td>50809.515625</td>\n",
       "      <td>50809.515625</td>\n",
       "      <td>20964372926</td>\n",
       "      <td>NaN</td>\n",
       "    </tr>\n",
       "    <tr>\n",
       "      <th>2021-12-27</th>\n",
       "      <td>50802.609375</td>\n",
       "      <td>51956.328125</td>\n",
       "      <td>50499.468750</td>\n",
       "      <td>50640.417969</td>\n",
       "      <td>50640.417969</td>\n",
       "      <td>24324345758</td>\n",
       "      <td>NaN</td>\n",
       "    </tr>\n",
       "    <tr>\n",
       "      <th>2021-12-28</th>\n",
       "      <td>50679.859375</td>\n",
       "      <td>50679.859375</td>\n",
       "      <td>47414.210938</td>\n",
       "      <td>47588.855469</td>\n",
       "      <td>47588.855469</td>\n",
       "      <td>33430376883</td>\n",
       "      <td>NaN</td>\n",
       "    </tr>\n",
       "    <tr>\n",
       "      <th>2021-12-29</th>\n",
       "      <td>47623.871094</td>\n",
       "      <td>48119.742188</td>\n",
       "      <td>46201.496094</td>\n",
       "      <td>46444.710938</td>\n",
       "      <td>46444.710938</td>\n",
       "      <td>30049226299</td>\n",
       "      <td>NaN</td>\n",
       "    </tr>\n",
       "    <tr>\n",
       "      <th>2021-12-30</th>\n",
       "      <td>46490.605469</td>\n",
       "      <td>47879.964844</td>\n",
       "      <td>46060.312500</td>\n",
       "      <td>47178.125000</td>\n",
       "      <td>47178.125000</td>\n",
       "      <td>26686491018</td>\n",
       "      <td>NaN</td>\n",
       "    </tr>\n",
       "  </tbody>\n",
       "</table>\n",
       "<p>2662 rows × 7 columns</p>\n",
       "</div>"
      ],
      "text/plain": [
       "                    Open          High           Low         Close  \\\n",
       "Date                                                                 \n",
       "2014-09-17    465.864014    468.174011    452.421997    457.334015   \n",
       "2014-09-18    456.859985    456.859985    413.104004    424.440002   \n",
       "2014-09-19    424.102997    427.834991    384.532013    394.795990   \n",
       "2014-09-20    394.673004    423.295990    389.882996    408.903992   \n",
       "2014-09-21    408.084991    412.425995    393.181000    398.821014   \n",
       "...                  ...           ...           ...           ...   \n",
       "2021-12-26  50428.691406  51196.378906  49623.105469  50809.515625   \n",
       "2021-12-27  50802.609375  51956.328125  50499.468750  50640.417969   \n",
       "2021-12-28  50679.859375  50679.859375  47414.210938  47588.855469   \n",
       "2021-12-29  47623.871094  48119.742188  46201.496094  46444.710938   \n",
       "2021-12-30  46490.605469  47879.964844  46060.312500  47178.125000   \n",
       "\n",
       "               Adj Close       Volume  Projection  \n",
       "Date                                               \n",
       "2014-09-17    457.334015     21056800  383.757996  \n",
       "2014-09-18    424.440002     34483200  391.441986  \n",
       "2014-09-19    394.795990     37919700  389.545990  \n",
       "2014-09-20    408.903992     36863600  382.845001  \n",
       "2014-09-21    398.821014     26580100  386.475006  \n",
       "...                  ...          ...         ...  \n",
       "2021-12-26  50809.515625  20964372926         NaN  \n",
       "2021-12-27  50640.417969  24324345758         NaN  \n",
       "2021-12-28  47588.855469  33430376883         NaN  \n",
       "2021-12-29  46444.710938  30049226299         NaN  \n",
       "2021-12-30  47178.125000  26686491018         NaN  \n",
       "\n",
       "[2662 rows x 7 columns]"
      ]
     },
     "execution_count": 62,
     "metadata": {},
     "output_type": "execute_result"
    }
   ],
   "source": [
    "Fut_BTC_projection=30\n",
    "Fut_bt=BTC_df.copy()\n",
    "Fut_bt['Projection']= Fut_bt[['Close']].shift(-Fut_BTC_projection)\n",
    "\n",
    "X_BTC=np.array(Fut_bt[['Close']])\n",
    "X_BTC=X_BTC[:-Fut_BTC_projection]\n",
    "#print(X_BTC)\n",
    "Fut_bt"
   ]
  },
  {
   "cell_type": "code",
   "execution_count": 63,
   "metadata": {},
   "outputs": [
    {
     "name": "stdout",
     "output_type": "stream",
     "text": [
      "[  383.75799561   391.44198608   389.54598999 ... 47588.85546875\n",
      " 46444.7109375  47178.125     ]\n"
     ]
    }
   ],
   "source": [
    "y_BTC=Fut_bt['Projection'].values\n",
    "y_BTC=y_BTC[:-Fut_BTC_projection]\n",
    "print(y_BTC)\n"
   ]
  },
  {
   "cell_type": "code",
   "execution_count": 64,
   "metadata": {},
   "outputs": [],
   "source": [
    "x_train_pB,x_test_pB,y_train_pB,y_test_pB = train_test_split(X_BTC,y_BTC,test_size=.15)"
   ]
  },
  {
   "cell_type": "markdown",
   "metadata": {},
   "source": [
    "# BTC Future Prediction Using Linear Model"
   ]
  },
  {
   "cell_type": "code",
   "execution_count": 65,
   "metadata": {},
   "outputs": [
    {
     "data": {
      "text/plain": [
       "LinearRegression(normalize=False)"
      ]
     },
     "execution_count": 65,
     "metadata": {},
     "output_type": "execute_result"
    }
   ],
   "source": [
    "linReg_BTC = LinearRegression()\n",
    "linReg_BTC.fit(x_train_pB, y_train_pB)\n",
    "\n",
    "LinearRegression(copy_X=True,fit_intercept=True, n_jobs=None,normalize=False)"
   ]
  },
  {
   "cell_type": "code",
   "execution_count": 66,
   "metadata": {},
   "outputs": [
    {
     "name": "stdout",
     "output_type": "stream",
     "text": [
      "[[57229.828125  ]\n",
      " [56477.81640625]\n",
      " [53598.24609375]\n",
      " [49200.703125  ]\n",
      " [49368.84765625]\n",
      " [50582.625     ]\n",
      " [50700.0859375 ]\n",
      " [50504.796875  ]\n",
      " [47672.12109375]\n",
      " [47243.3046875 ]\n",
      " [49362.5078125 ]\n",
      " [50098.3359375 ]\n",
      " [46737.48046875]\n",
      " [46612.6328125 ]\n",
      " [48896.72265625]\n",
      " [47665.42578125]\n",
      " [46202.14453125]\n",
      " [46848.77734375]\n",
      " [46707.015625  ]\n",
      " [46880.27734375]\n",
      " [48936.61328125]\n",
      " [48628.51171875]\n",
      " [50784.5390625 ]\n",
      " [50822.1953125 ]\n",
      " [50429.859375  ]\n",
      " [50809.515625  ]\n",
      " [50640.41796875]\n",
      " [47588.85546875]\n",
      " [46444.7109375 ]\n",
      " [47178.125     ]]\n"
     ]
    }
   ],
   "source": [
    "x_projection_BTC=np.array(Fut_bt[['Close']])[-Fut_BTC_projection:]\n",
    "print(x_projection_BTC)\n"
   ]
  },
  {
   "cell_type": "code",
   "execution_count": 67,
   "metadata": {},
   "outputs": [
    {
     "name": "stdout",
     "output_type": "stream",
     "text": [
      "[57323.74517981 56579.0739219  53727.61138033 49372.99326389\n",
      " 49539.49651972 50741.42606265 50857.74045231 50664.35762568\n",
      " 47859.33187319 47434.70118634 49533.21855982 50261.86419363\n",
      " 46933.81436787 46810.18536195 49071.97997859 47852.7019143\n",
      " 46403.70389746 47044.02486305 46903.64689448 47075.21738843\n",
      " 49111.48122725 48806.38707461 50941.36922199 50978.65790561\n",
      " 50590.15159804 50966.10198579 50798.65490851 47776.8790122\n",
      " 46643.902589   47370.15772422]\n"
     ]
    }
   ],
   "source": [
    "linReg_prodection_BTC=linReg_BTC.predict(x_projection_BTC)\n",
    "print(linReg_prodection_BTC)"
   ]
  },
  {
   "cell_type": "code",
   "execution_count": 68,
   "metadata": {},
   "outputs": [
    {
     "data": {
      "image/png": "[encoded data removed]",
      "text/plain": [
       "<Figure size 1152x576 with 1 Axes>"
      ]
     },
     "metadata": {
      "needs_background": "light"
     },
     "output_type": "display_data"
    }
   ],
   "source": [
    "plt.figure(figsize=(16,8))\n",
    "plt.title('Predicted for Bitcoin Market in The Future using Linear Model')\n",
    "plt.xlabel('Date',fontsize=18)\n",
    "plt.ylabel('Close Price USD($)',fontsize=18)\n",
    "plt.plot(linReg_prodection_BTC)\n",
    "plt.legend(['predictions next 30 days'],loc='lower right')\n",
    "plt.show()"
   ]
  },
  {
   "cell_type": "markdown",
   "metadata": {
    "tags": []
   },
   "source": [
    "# Put Preditions in df"
   ]
  },
  {
   "cell_type": "code",
   "execution_count": 73,
   "metadata": {},
   "outputs": [
    {
     "name": "stderr",
     "output_type": "stream",
     "text": [
      "C:\\Users\\ali\\AppData\\Local\\Temp/ipykernel_13684/2173964681.py:4: SettingWithCopyWarning: \n",
      "A value is trying to be set on a copy of a slice from a DataFrame.\n",
      "Try using .loc[row_indexer,col_indexer] = value instead\n",
      "\n",
      "See the caveats in the documentation: https://pandas.pydata.org/pandas-docs/stable/user_guide/indexing.html#returning-a-view-versus-a-copy\n",
      "  Ap['Apple_predictions30'] =prediction_next_30d_apple\n",
      "C:\\Users\\ali\\AppData\\Local\\Temp/ipykernel_13684/2173964681.py:9: SettingWithCopyWarning: \n",
      "A value is trying to be set on a copy of a slice from a DataFrame.\n",
      "Try using .loc[row_indexer,col_indexer] = value instead\n",
      "\n",
      "See the caveats in the documentation: https://pandas.pydata.org/pandas-docs/stable/user_guide/indexing.html#returning-a-view-versus-a-copy\n",
      "  Bp['Btc_predictions30'] =linReg_prodection_BTC\n"
     ]
    }
   ],
   "source": [
    "#put preditions in df\n",
    "Apple_lenp=int(len(prediction_next_30d_apple))\n",
    "Ap=Apple_data[:Apple_lenp]\n",
    "Ap['Apple_predictions30'] =prediction_next_30d_apple\n",
    "#Ap\n",
    "\n",
    "Bit_lenp=int(len(linReg_prodection_BTC))\n",
    "Bp=BTC_data[:Bit_lenp]\n",
    "Bp['Btc_predictions30'] =linReg_prodection_BTC\n",
    "#Bp"
   ]
  },
  {
   "cell_type": "markdown",
   "metadata": {
    "tags": []
   },
   "source": [
    "# DASH"
   ]
  },
  {
   "cell_type": "code",
   "execution_count": 81,
   "metadata": {},
   "outputs": [],
   "source": [
    "import dash\n",
    "import dash_core_components as dcc\n",
    "import dash_html_components as html\n",
    "from dash.dependencies import Input, Output\n",
    "from pandas_datareader import data as pdr\n",
    "import datetime as dt\n",
    "import streamlit as st\n",
    "import plotly.graph_objs as go"
   ]
  },
  {
   "cell_type": "code",
   "execution_count": 82,
   "metadata": {},
   "outputs": [],
   "source": [
    "app = dash.Dash(__name__)\n",
    "app.title = \"Stock Price Predictions App\"\n",
    "#First the layout\n",
    "app.layout = html.Div([\n",
    "   \n",
    "    html.H1(\"Predict Future Stock Prices\", style={\"textAlign\": \"center\"}),\n",
    "    html.H4(\"Stock Price Prediction Using Machine Learning\", style={\"textAlign\": \"center\"}),\n",
    "    html.Br(),\n",
    "    html.Br(),\n",
    "    html.Br(),\n",
    "    html.Br(),\n",
    "    html.Br(),\n",
    "            html.Div([\n",
    "                html.H2(\"Actual Closing Price For Apple\",style={\"textAlign\": \"center\"}),\n",
    "                dcc.Graph(\n",
    "                    id=\"Actual Data\",\n",
    "                    figure={\n",
    "                        \"data\":[\n",
    "                                go.Scatter(\n",
    "                                x=Apple_df.index,\n",
    "                                y=Apple_df[\"Close\"],\n",
    "                                mode='markers'\n",
    "                           )\n",
    "\n",
    "                       ],\n",
    "                       \"layout\":go.Layout(\n",
    "                            title='scatter plot',\n",
    "                            xaxis={'title':'Year'},\n",
    "                            yaxis={'title':'Apple Closing Rate'}\n",
    "                       )\n",
    "                    }\n",
    "\n",
    "                ),\n",
    "                html.H2(\"LSTM Predicted Closing Price For Apple\",style={\"textAlign\": \"center\"}),\n",
    "                dcc.Graph(\n",
    "                    id=\"Predicted Data\",\n",
    "                    figure={\n",
    "                        \"data\":[\n",
    "                                go.Scatter(\n",
    "                                x=Apple_valid.index,\n",
    "                                y=Apple_valid[\"predictions\"],\n",
    "                                mode='markers'\n",
    "                           )\n",
    "\n",
    "                        ],\n",
    "                        \"layout\":go.Layout(\n",
    "                            title='scatter plot',\n",
    "                            xaxis={'title':'Date'},\n",
    "                            yaxis={'title':'Apple Closing Rate'}\n",
    "                     )\n",
    "                    }),\n",
    "                \n",
    "                 html.H2(\"Predictions Closing Price For Apple Next 30 Days\",style={\"textAlign\": \"center\"}),\n",
    "                dcc.Graph(\n",
    "                    id=\"Future Predicted Data\",\n",
    "                    figure={\n",
    "                        \"data\":[\n",
    "                                go.Scatter(\n",
    "                                y=Ap['Apple_predictions30'],\n",
    "                                mode='markers'\n",
    "                           )\n",
    "\n",
    "                        ],\n",
    "                        \"layout\":go.Layout(\n",
    "                            title='scatter plot',\n",
    "                            xaxis={'title':'Days'},\n",
    "                            yaxis={'title':'Apple Closing Rate'}\n",
    "                     )\n",
    "                    }),\n",
    "                \n",
    "                    html.H2(\"Actual Closing Price For Bitcoin\",style={\"textAlign\": \"center\"}),\n",
    "                dcc.Graph(\n",
    "                    id=\"Actual Data BTC\",\n",
    "                    figure={\n",
    "                        \"data\":[\n",
    "                                go.Scatter(\n",
    "                                x=BTC_df.index,\n",
    "                                y=BTC_df[\"Close\"],\n",
    "                                mode='markers'\n",
    "                           )\n",
    "\n",
    "                        ],\n",
    "                        \"layout\":go.Layout(\n",
    "                            title='scatter plot',\n",
    "                            xaxis={'title':'Year'},\n",
    "                            yaxis={'title':'BTC Closing Rate'}\n",
    "                     )\n",
    "                    }),\n",
    "                \n",
    "                    html.H2(\"LSTM Predicted Closing Price For Bitcoin\",style={\"textAlign\": \"center\"}),\n",
    "                dcc.Graph(\n",
    "                    id=\"Predicted Data BTC\",\n",
    "                    figure={\n",
    "                        \"data\":[\n",
    "                                go.Scatter(\n",
    "                                x=BTC_valid.index,\n",
    "                                y=BTC_valid[\"predictions\"],\n",
    "                     \n",
    "                                mode='markers'\n",
    "                           )\n",
    "\n",
    "                        ],\n",
    "                        \"layout\":go.Layout(\n",
    "                            title='scatter plot',\n",
    "                            xaxis={'title':'Date'},\n",
    "                            yaxis={'title':'BTC Closing Rate'}\n",
    "                     )\n",
    "                    }),\n",
    "                 html.H2(\"Predictions Closing Price For BTC Next 30 Days\",style={\"textAlign\": \"center\"}),\n",
    "                dcc.Graph(\n",
    "                    id=\"Future Predicted Data BTC\",\n",
    "                    figure={\n",
    "                        \"data\":[\n",
    "                                go.Scatter(\n",
    "                                y=Bp['Btc_predictions30'],\n",
    "                                mode='markers'\n",
    "                           )\n",
    "\n",
    "                        ],\n",
    "                        \"layout\":go.Layout(\n",
    "                            title='scatter plot',\n",
    "                            xaxis={'title':'Days'},\n",
    "                            yaxis={'title':'BTC Closing Rate'}\n",
    "                     )\n",
    "                    })\n",
    "                \n",
    "    ])    \n",
    "])"
   ]
  },
  {
   "cell_type": "code",
   "execution_count": null,
   "metadata": {},
   "outputs": [
    {
     "name": "stdout",
     "output_type": "stream",
     "text": [
      "Dash is running on http://127.0.0.1:8050/\n",
      "\n",
      "Dash is running on http://127.0.0.1:8050/\n",
      "\n"
     ]
    },
    {
     "name": "stderr",
     "output_type": "stream",
     "text": [
      "INFO:__main__:Dash is running on http://127.0.0.1:8050/\n",
      "\n",
      "2022-01-10 10:09:54.904 INFO    __main__: Dash is running on http://127.0.0.1:8050/\n",
      "\n"
     ]
    },
    {
     "name": "stdout",
     "output_type": "stream",
     "text": [
      " * Serving Flask app \"__main__\" (lazy loading)\n",
      " * Environment: production\n",
      "   WARNING: This is a development server. Do not use it in a production deployment.\n",
      "   Use a production WSGI server instead.\n",
      " * Debug mode: off\n"
     ]
    },
    {
     "name": "stderr",
     "output_type": "stream",
     "text": [
      "INFO:werkzeug: * Running on http://127.0.0.1:8050/ (Press CTRL+C to quit)\n",
      "2022-01-10 10:09:54.912 INFO    werkzeug:  * Running on http://127.0.0.1:8050/ (Press CTRL+C to quit)\n",
      "INFO:werkzeug:127.0.0.1 - - [10/Jan/2022 10:09:56] \"GET / HTTP/1.1\" 200 -\n",
      "2022-01-10 10:09:56.900 INFO    werkzeug: 127.0.0.1 - - [10/Jan/2022 10:09:56] \"GET / HTTP/1.1\" 200 -\n",
      "INFO:werkzeug:127.0.0.1 - - [10/Jan/2022 10:09:57] \"GET /_favicon.ico?v=2.0.0 HTTP/1.1\" 200 -\n",
      "2022-01-10 10:09:57.147 INFO    werkzeug: 127.0.0.1 - - [10/Jan/2022 10:09:57] \"GET /_favicon.ico?v=2.0.0 HTTP/1.1\" 200 -\n",
      "INFO:werkzeug:127.0.0.1 - - [10/Jan/2022 10:09:57] \"GET /_dash-dependencies HTTP/1.1\" 200 -\n",
      "2022-01-10 10:09:57.226 INFO    werkzeug: 127.0.0.1 - - [10/Jan/2022 10:09:57] \"GET /_dash-dependencies HTTP/1.1\" 200 -\n",
      "INFO:werkzeug:127.0.0.1 - - [10/Jan/2022 10:09:57] \"GET /_dash-layout HTTP/1.1\" 200 -\n",
      "2022-01-10 10:09:57.254 INFO    werkzeug: 127.0.0.1 - - [10/Jan/2022 10:09:57] \"GET /_dash-layout HTTP/1.1\" 200 -\n",
      "INFO:werkzeug:127.0.0.1 - - [10/Jan/2022 10:09:57] \"GET /_dash-component-suites/dash/dcc/async-graph.js HTTP/1.1\" 200 -\n",
      "2022-01-10 10:09:57.279 INFO    werkzeug: 127.0.0.1 - - [10/Jan/2022 10:09:57] \"GET /_dash-component-suites/dash/dcc/async-graph.js HTTP/1.1\" 200 -\n",
      "INFO:werkzeug:127.0.0.1 - - [10/Jan/2022 10:09:57] \"GET /_dash-component-suites/dash/dcc/async-plotlyjs.js HTTP/1.1\" 200 -\n",
      "2022-01-10 10:09:57.286 INFO    werkzeug: 127.0.0.1 - - [10/Jan/2022 10:09:57] \"GET /_dash-component-suites/dash/dcc/async-plotlyjs.js HTTP/1.1\" 200 -\n"
     ]
    }
   ],
   "source": [
    "if __name__ == \"__main__\":\n",
    "    app.run_server(debug=False)"
   ]
  },
  {
   "cell_type": "code",
   "execution_count": null,
   "metadata": {},
   "outputs": [],
   "source": []
  },
  {
   "cell_type": "code",
   "execution_count": null,
   "metadata": {},
   "outputs": [],
   "source": []
  }
 ],
 "metadata": {
  "interpreter": {
   "hash": "b1295f837331a4625ea8867703801c7b4b917abfed4741b6633e37751affeda7"
  },
  "kernelspec": {
   "display_name": "Python 3 (ipykernel)",
   "language": "python",
   "name": "python3"
  },
  "language_info": {
   "codemirror_mode": {
    "name": "ipython",
    "version": 3
   },
   "file_extension": ".py",
   "mimetype": "text/x-python",
   "name": "python",
   "nbconvert_exporter": "python",
   "pygments_lexer": "ipython3",
   "version": "3.9.7"
  }
 },
 "nbformat": 4,
 "nbformat_minor": 4
}
